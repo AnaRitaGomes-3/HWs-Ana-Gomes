{
 "cells": [
  {
   "cell_type": "markdown",
   "id": "1c24e7d5-460d-4bd4-b15f-c7cee9ca7919",
   "metadata": {},
   "source": [
    "# HW 5 part 1"
   ]
  },
  {
   "cell_type": "markdown",
   "id": "21f6cc1a-49fc-435b-ba7d-975b1b30146a",
   "metadata": {},
   "source": [
    "Import what is needed here (first read what follows)"
   ]
  },
  {
   "cell_type": "code",
   "execution_count": 1,
   "id": "c7128dd6-f61d-4919-b9e3-fa058c714376",
   "metadata": {},
   "outputs": [],
   "source": [
    "import pandas as pd\n",
    "import statsmodels.api as sm\n",
    "from statsmodels.tsa.arima_process import ArmaProcess\n",
    "from statsmodels.tsa.ar_model import AutoReg\n",
    "from statsmodels.tsa.arima.model import ARIMA\n",
    "from numpy.random import default_rng\n",
    "import numpy as np\n",
    "import warnings\n",
    "warnings.filterwarnings('ignore')\n",
    "import scipy\n",
    "import matplotlib.pyplot as plt"
   ]
  },
  {
   "cell_type": "markdown",
   "id": "39e93dd0-4d93-4b25-bfb6-a58b0422bf6e",
   "metadata": {},
   "source": [
    "Set `gen = np.random.default_rng(seed)`, with the seed assigned to you."
   ]
  },
  {
   "cell_type": "code",
   "execution_count": 2,
   "id": "0707bd28-c797-41b3-bb38-40aef05191ba",
   "metadata": {},
   "outputs": [],
   "source": [
    "gen = np.random.default_rng(739)"
   ]
  },
  {
   "cell_type": "markdown",
   "id": "0d798775-3190-4a3b-aabd-38a889481af5",
   "metadata": {},
   "source": [
    "Simulate `n_rep=500` samples of `n_obs=100` observations from a AR(1) process \n",
    "\n",
    "$$ z_t = \\alpha_0 + \\alpha_1 z_{t-1} + \\varepsilon_t$$\n",
    "\n",
    "where $\\alpha_0=1$, $\\alpha_1=.5$ and the variance of $\\varepsilon_t$ is $\\sigma^2 = 1.5$"
   ]
  },
  {
   "cell_type": "code",
   "execution_count": 3,
   "id": "dfd7998e-84c6-4ea4-98e7-54329a9aa28d",
   "metadata": {},
   "outputs": [],
   "source": [
    "alpha_0=1\n",
    "alpha_1=0.5\n",
    "sigma_sq=1.5\n",
    "\n",
    "ar_param = np.array([alpha_1])\n",
    "ma_param = np.array([0])\n",
    "ar = np.r_[1, -alpha_1]\n",
    "ma = np.r_[1, 0]\n",
    "ar1_process = ArmaProcess(ar, ma)\n",
    "\n",
    "n_obs = 100\n",
    "n_rep=500\n",
    "data = ar1_process.generate_sample(nsample = (n_obs, n_rep),  burnin=1000,  scale=sigma_sq, distrvs=gen.normal)\n",
    "ones = np.full((n_obs,n_rep),alpha_0)\n",
    "data = data + ones"
   ]
  },
  {
   "cell_type": "markdown",
   "id": "c17d85b0-d78c-4a6b-8f91-c88123eb73b2",
   "metadata": {},
   "source": [
    "Estimate the correct model specification using OLS and MLE for each one of the `n_rep` samples and save the parameter estimates from each method in two `n_rep` $\\times 3 $ arrays, called `thetaOLS` (for OLS) and `thetaMLE` (for MLE)\n",
    "\n",
    "__Hint:__ Probably want to use a for loop..."
   ]
  },
  {
   "cell_type": "code",
   "execution_count": 4,
   "id": "ee0d7d57-3212-4809-985f-e149a77cc32f",
   "metadata": {},
   "outputs": [],
   "source": [
    "#Estimation method - OLS\n",
    "thetaOLS = np.empty((0, 3))\n",
    "thetaOLS_resid = np.array([])\n",
    "\n",
    "for x in range(0, 500):\n",
    "    AR_OLS_model = AutoReg(data[:,x], trend='c', lags=1)\n",
    "    AR_OLS_results=AR_OLS_model.fit()\n",
    "    thetaOLS=np.append(thetaOLS, [[AR_OLS_results.params[0], AR_OLS_results.params[1], AR_OLS_results.resid.std()]], axis=0)\n",
    "    thetaOLS_resid=np.append(thetaOLS_resid, AR_OLS_results.resid, axis=0)\n",
    "    \n",
    "#Estimation method - MLE  \n",
    "thetaMLE = np.empty((0, 3))\n",
    "thetaMLE_resid = np.array([])\n",
    "\n",
    "for x in range(0, 500):\n",
    "    AR_MLE_model = ARIMA(data[:,x], trend='c', order=(1, 0, 0))\n",
    "    AR_MLE_results=AR_MLE_model.fit()\n",
    "    thetaMLE=np.append(thetaMLE, [[AR_MLE_results.params[0], AR_MLE_results.params[1], AR_MLE_results.resid.std()]], axis=0)\n",
    "    thetaMLE_resid=np.append(thetaMLE_resid, AR_MLE_results.resid, axis=0)"
   ]
  },
  {
   "cell_type": "markdown",
   "id": "fb818050-6380-4b62-83fb-f515ae3e2d66",
   "metadata": {},
   "source": [
    "Print the means and standard deviations of the parameter estimates"
   ]
  },
  {
   "cell_type": "code",
   "execution_count": 5,
   "id": "6fd873ef-8ab6-43da-9f6d-ee3c97901124",
   "metadata": {},
   "outputs": [
    {
     "name": "stdout",
     "output_type": "stream",
     "text": [
      "Regarding the alpha 0 estimates, the mean is 0.545, in the OLS, and 1.04, in the MLE. The standard deviation is 0.199, in the OLS, and 0.316, in the MLE.\n",
      "Regarding the alpha 1 estimates, the mean is 0.476, in the OLS, and 0.476, in the MLE. The standard deviation is 0.091, in the OLS, and 0.091, in the MLE.\n",
      "Regarding sigma square estimates, the mean is 1.474, in the OLS, and 1.477, in the MLE.The standard deviation is 0.106, in the OLS, and 0.105, in the MLE.\n"
     ]
    }
   ],
   "source": [
    "#OLS\n",
    "OLS_alpha0_mean=np.mean(thetaOLS[:,0]).round(3)\n",
    "OLS_alpha1_mean=np.mean(thetaOLS[:,1]).round(3)\n",
    "OLS_sigmasq_mean=np.mean(thetaOLS[:,2]).round(3)\n",
    "\n",
    "OLS_alpha0_std=np.std(thetaOLS[:,0]).round(3)\n",
    "OLS_alpha1_std=np.std(thetaOLS[:,1]).round(3)\n",
    "OLS_sigmasq_std=np.std(thetaOLS[:,2]).round(3)\n",
    "\n",
    "#OLS\n",
    "MLE_alpha0_mean=np.mean(thetaMLE[:,0]).round(3)\n",
    "MLE_alpha1_mean=np.mean(thetaMLE[:,1]).round(3)\n",
    "MLE_sigmasq_mean=np.mean(thetaMLE[:,2]).round(3)\n",
    "\n",
    "MLE_alpha0_std=np.std(thetaMLE[:,0]).round(3)\n",
    "MLE_alpha1_std=np.std(thetaMLE[:,1]).round(3)\n",
    "MLE_sigmasq_std=np.std(thetaMLE[:,2]).round(3)\n",
    "\n",
    "print(f\"Regarding the alpha 0 estimates, the mean is {OLS_alpha0_mean}, in the OLS, and {MLE_alpha0_mean}, in the MLE. The standard deviation is {OLS_alpha0_std}, in the OLS, and {MLE_alpha0_std}, in the MLE.\")\n",
    "print(f\"Regarding the alpha 1 estimates, the mean is {OLS_alpha1_mean}, in the OLS, and {MLE_alpha1_mean}, in the MLE. The standard deviation is {OLS_alpha1_std}, in the OLS, and {MLE_alpha1_std}, in the MLE.\")\n",
    "print(f\"Regarding sigma square estimates, the mean is {OLS_sigmasq_mean}, in the OLS, and {MLE_sigmasq_mean}, in the MLE.The standard deviation is {OLS_sigmasq_std}, in the OLS, and {MLE_sigmasq_std}, in the MLE.\")"
   ]
  },
  {
   "cell_type": "markdown",
   "id": "b0142e39-4384-4d9a-8e8b-ac0170831bd7",
   "metadata": {},
   "source": [
    "Compute and print the biases and mean squared errors of the parameter estimates"
   ]
  },
  {
   "cell_type": "code",
   "execution_count": 6,
   "id": "c3f8f028-5075-4efd-b2f7-d946026126b7",
   "metadata": {},
   "outputs": [
    {
     "name": "stdout",
     "output_type": "stream",
     "text": [
      "Regarding alpha0, the bias is 0.455, in the OLS, and -0.04, in the MLE.\n",
      "Regarding alpha1, the bias is 0.024, in the OLS, and 0.024, in the MLE.\n",
      "Regarding sigma square, the bias is 0.026, in the OLS, and 0.023, in the MLE.\n",
      "Regarding alpha0, the  mean square errors are 0.246, in the OLS, and 0.101, in the MLE.\n",
      "Regarding alpha1, the  mean square errors are 0.009, in the OLS, and 0.009, in the MLE.\n",
      "Regarding sigma square, the  mean square errors are 0.012, in the OLS, and 0.011, in the MLE.\n"
     ]
    }
   ],
   "source": [
    "#BIASES\n",
    "\n",
    "OLS_alpha0_bias=(np.subtract(alpha_0,thetaOLS[:,0]).mean()).round(3)\n",
    "OLS_alpha1_bias=(np.subtract(alpha_1,thetaOLS[:,1]).mean()).round(3)\n",
    "OLS_sigmasq_bias=(np.subtract(sigma_sq,thetaOLS[:,2]).mean()).round(3)\n",
    "\n",
    "MLE_alpha0_bias=(np.subtract(alpha_0,thetaMLE[:,0]).mean()).round(3)\n",
    "MLE_alpha1_bias=(np.subtract(alpha_1,thetaMLE[:,1]).mean()).round(3)\n",
    "MLE_sigmasq_bias=(np.subtract(sigma_sq,thetaMLE[:,2]).mean()).round(3)\n",
    "\n",
    "print(f\"Regarding alpha0, the bias is {OLS_alpha0_bias}, in the OLS, and {MLE_alpha0_bias}, in the MLE.\")\n",
    "print(f\"Regarding alpha1, the bias is {OLS_alpha1_bias}, in the OLS, and {MLE_alpha1_bias}, in the MLE.\")\n",
    "print(f\"Regarding sigma square, the bias is {OLS_sigmasq_bias}, in the OLS, and {MLE_sigmasq_bias}, in the MLE.\")\n",
    "\n",
    "#Mean squared errors\n",
    "OLS_alpha0_mse=(np.square(np.subtract(alpha_0,thetaOLS[:,0]))).mean().round(3)\n",
    "OLS_alpha1_mse=(np.square(np.subtract(alpha_1,thetaOLS[:,1]))).mean().round(3)\n",
    "OLS_sigmasq_mse=(np.square(np.subtract(sigma_sq,thetaOLS[:,2]))).mean().round(3)\n",
    "\n",
    "MLE_alpha0_mse=(np.square(np.subtract(alpha_0,thetaMLE[:,0]))).mean().round(3)\n",
    "MLE_alpha1_mse=(np.square(np.subtract(alpha_1,thetaMLE[:,1]))).mean().round(3)\n",
    "MLE_sigmasq_mse=(np.square(np.subtract(sigma_sq,thetaMLE[:,2]))).mean().round(3)\n",
    "\n",
    "print(f\"Regarding alpha0, the  mean square errors are {OLS_alpha0_mse}, in the OLS, and {MLE_alpha0_mse}, in the MLE.\")\n",
    "print(f\"Regarding alpha1, the  mean square errors are {OLS_alpha1_mse}, in the OLS, and {MLE_alpha1_mse}, in the MLE.\")\n",
    "print(f\"Regarding sigma square, the  mean square errors are {OLS_sigmasq_mse}, in the OLS, and {MLE_sigmasq_mse}, in the MLE.\")"
   ]
  },
  {
   "cell_type": "markdown",
   "id": "2a006531",
   "metadata": {},
   "source": [
    "Plot in a 2x3 figure the histograms of the parameter estimates, with OLS on the top row and MLE in the bottom"
   ]
  },
  {
   "cell_type": "code",
   "execution_count": 7,
   "id": "f3dc09e3",
   "metadata": {},
   "outputs": [
    {
     "data": {
      "text/plain": [
       "Text(0.5, 1.0, 'MLE - Estimation of sigma')"
      ]
     },
     "execution_count": 7,
     "metadata": {},
     "output_type": "execute_result"
    },
    {
     "data": {
      "image/png": "[encoded data removed]",
      "text/plain": [
       "<Figure size 1080x576 with 6 Axes>"
      ]
     },
     "metadata": {
      "needs_background": "light"
     },
     "output_type": "display_data"
    }
   ],
   "source": [
    "fig, axs = plt.subplots(2, 3, figsize=(15,8))\n",
    "fig.suptitle('Histograms of the Parameter Estimates - OLS and MLE', fontsize=25, fontweight=15)\n",
    "\n",
    "x = np.linspace(-0.25,1.5, num=20)\n",
    "axs[0, 0].hist(thetaOLS[:,0], bins=x, density=True, color='paleturquoise')\n",
    "axs[0, 0].set_title('OLS - Estimation of alpha 0 (constant)')\n",
    "\n",
    "x = np.linspace(0,1, num=20)\n",
    "axs[0, 1].hist(thetaOLS[:,1], bins=x, density=True, color='mistyrose')\n",
    "axs[0, 1].set_title('OLS - Estimation of alpha 1')\n",
    "\n",
    "x = np.linspace(1,2, num=20)\n",
    "axs[0, 2].hist(thetaOLS[:,2], bins=x, density=True, color='moccasin')\n",
    "axs[0, 2].set_title('OLS - Estimation of sigma')\n",
    "\n",
    "x = np.linspace(-0.1,2.5, num=20)\n",
    "axs[1, 0].hist(thetaMLE[:,0], bins=x, density=True, color='paleturquoise')\n",
    "axs[1, 0].set_title('MLE - Estimation of alpha 0 (constant)')\n",
    "\n",
    "x = np.linspace(0,1, num=20)\n",
    "axs[1, 1].hist(thetaMLE[:,1], bins=x, density=True, color='mistyrose')\n",
    "axs[1, 1].set_title('MLE - Estimation of alpha 1')\n",
    "\n",
    "x = np.linspace(1,2, num=20)\n",
    "axs[1, 2].hist(thetaMLE[:,2], bins=x, density=True, color='moccasin')\n",
    "axs[1, 2].set_title('MLE - Estimation of sigma')"
   ]
  },
  {
   "cell_type": "markdown",
   "id": "e0d708ec-a9e3-4e89-8bf1-3fe57ee012b5",
   "metadata": {},
   "source": [
    "Comment briefly on the relative performance of OLS and MLE for this model"
   ]
  },
  {
   "cell_type": "code",
   "execution_count": 8,
   "id": "ea8f266a-2aab-4efb-9b55-c83acb7897c2",
   "metadata": {},
   "outputs": [
    {
     "name": "stdout",
     "output_type": "stream",
     "text": [
      "The MLE has a better performance than the OLS for this model, since MLE generates lower biases and mean squared errors for the estimates of alpha zero and sigma square. Regarding the estimates of alpha 1 the biases are identical between OLS and MLE\n"
     ]
    }
   ],
   "source": [
    "print(f'The MLE has a better performance than the OLS for this model, since MLE generates lower biases and mean squared errors for the estimates of alpha zero and sigma square. Regarding the estimates of alpha 1 the biases are identical between OLS and MLE')"
   ]
  },
  {
   "cell_type": "code",
   "execution_count": null,
   "id": "f5f052bf-6562-4286-9ce5-be3123731e50",
   "metadata": {},
   "outputs": [],
   "source": []
  }
 ],
 "metadata": {
  "kernelspec": {
   "display_name": "Python 3 (ipykernel)",
   "language": "python",
   "name": "python3"
  },
  "language_info": {
   "codemirror_mode": {
    "name": "ipython",
    "version": 3
   },
   "file_extension": ".py",
   "mimetype": "text/x-python",
   "name": "python",
   "nbconvert_exporter": "python",
   "pygments_lexer": "ipython3",
   "version": "3.9.7"
  }
 },
 "nbformat": 4,
 "nbformat_minor": 5
}
