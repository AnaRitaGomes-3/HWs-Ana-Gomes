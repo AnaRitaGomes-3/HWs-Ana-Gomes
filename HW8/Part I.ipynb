{
 "cells": [
  {
   "cell_type": "markdown",
   "id": "9415f201-18c1-4a1e-a11a-88735a80b0f4",
   "metadata": {},
   "source": [
    "## HW8 - Part I"
   ]
  },
  {
   "cell_type": "code",
   "execution_count": 1,
   "id": "75283db5-825d-43a3-b9f4-45f9453cef7b",
   "metadata": {},
   "outputs": [],
   "source": [
    "# Importing packages \n",
    "\n",
    "import warnings\n",
    "warnings.filterwarnings(\"ignore\")\n",
    "from statsmodels.tools.sm_exceptions import ConvergenceWarning\n",
    "warnings.simplefilter('ignore', ConvergenceWarning)\n",
    "\n",
    "import pandas as pd\n",
    "import numpy as np\n",
    "from scipy import stats\n",
    "import matplotlib.pyplot as plt\n",
    "import statsmodels.tsa.api as tsa\n",
    "from statsmodels.tsa.api import VAR\n",
    "from statsmodels.tsa.arima_process import ArmaProcess\n",
    "from statsmodels.tsa.arima.model import ARIMA"
   ]
  },
  {
   "cell_type": "markdown",
   "id": "73a4184e-5c32-417b-824d-f8010770e96d",
   "metadata": {},
   "source": [
    "## Task 1.1:"
   ]
  },
  {
   "cell_type": "markdown",
   "id": "6da52b40-3df3-4398-ad58-643ae9aa385c",
   "metadata": {},
   "source": [
    "Divide the sample into train and test subsumples of 192 and 8 observations respectively."
   ]
  },
  {
   "cell_type": "code",
   "execution_count": 2,
   "id": "bba5c532-16c3-4125-87b0-e883f1304de2",
   "metadata": {},
   "outputs": [],
   "source": [
    "# Downloading the data\n",
    "data = pd.read_csv('.\\data_clean.csv')"
   ]
  },
  {
   "cell_type": "code",
   "execution_count": 3,
   "id": "1fcc9053-4897-4da9-8354-3e6de315ff14",
   "metadata": {},
   "outputs": [],
   "source": [
    "ntest = 8\n",
    "train = data[:-ntest]\n",
    "test = data[-ntest:]"
   ]
  },
  {
   "cell_type": "markdown",
   "id": "0baafaaa-7369-4e33-a6eb-cbbdbdc456a3",
   "metadata": {},
   "source": [
    "select VAR orders p_aic and p_bic for the training sample according to AIC and BIC"
   ]
  },
  {
   "cell_type": "code",
   "execution_count": 4,
   "id": "c1c9fee1-0966-45b5-af85-1dc5c9c59f1f",
   "metadata": {},
   "outputs": [],
   "source": [
    "model = VAR(data)\n",
    "res = model.select_order(maxlags=8)\n",
    "res.selected_orders\n",
    "p_bic = res.selected_orders.get('bic')\n",
    "p_aic = res.selected_orders.get('aic')"
   ]
  },
  {
   "cell_type": "markdown",
   "id": "06ec49df-e57a-43fa-98ae-f59d828668c5",
   "metadata": {},
   "source": [
    "Estimate VAR§ for p=p_aic and p=p_bic"
   ]
  },
  {
   "cell_type": "code",
   "execution_count": 5,
   "id": "babc690f-224c-4a0c-849c-76b5ac6e6af1",
   "metadata": {},
   "outputs": [],
   "source": [
    "var = tsa.VAR(data)\n",
    "bic_results = var.fit(p_bic, trend='c')\n",
    "aic_results = var.fit(p_aic, trend='c')"
   ]
  },
  {
   "cell_type": "code",
   "execution_count": 6,
   "id": "4ac019ca-52f2-4a68-b62a-1fb86764312a",
   "metadata": {},
   "outputs": [
    {
     "data": {
      "text/plain": [
       "  Summary of Regression Results   \n",
       "==================================\n",
       "Model:                         VAR\n",
       "Method:                        OLS\n",
       "Date:           Thu, 12, May, 2022\n",
       "Time:                     20:09:59\n",
       "--------------------------------------------------------------------\n",
       "No. of Equations:         3.00000    BIC:                   -1.72989\n",
       "Nobs:                     198.000    HQIC:                  -1.93748\n",
       "Log likelihood:          -616.063    FPE:                   0.125110\n",
       "AIC:                     -2.07865    Det(Omega_mle):        0.112727\n",
       "--------------------------------------------------------------------\n",
       "Results for equation a\n",
       "========================================================================\n",
       "           coefficient       std. error           t-stat            prob\n",
       "------------------------------------------------------------------------\n",
       "const         0.391789         0.067931            5.767           0.000\n",
       "L1.a          1.086960         0.070177           15.489           0.000\n",
       "L1.b         -0.001367         0.038227           -0.036           0.971\n",
       "L1.c          0.266828         0.045251            5.897           0.000\n",
       "L2.a         -0.150810         0.071017           -2.124           0.034\n",
       "L2.b         -0.108065         0.038384           -2.815           0.005\n",
       "L2.c         -0.269697         0.044859           -6.012           0.000\n",
       "========================================================================\n",
       "\n",
       "Results for equation b\n",
       "========================================================================\n",
       "           coefficient       std. error           t-stat            prob\n",
       "------------------------------------------------------------------------\n",
       "const         0.061765         0.120336            0.513           0.608\n",
       "L1.a          0.430820         0.124315            3.466           0.001\n",
       "L1.b          0.784342         0.067717           11.583           0.000\n",
       "L1.c          0.305147         0.080159            3.807           0.000\n",
       "L2.a         -0.081397         0.125803           -0.647           0.518\n",
       "L2.b         -0.067516         0.067995           -0.993           0.321\n",
       "L2.c         -0.436910         0.079465           -5.498           0.000\n",
       "========================================================================\n",
       "\n",
       "Results for equation c\n",
       "========================================================================\n",
       "           coefficient       std. error           t-stat            prob\n",
       "------------------------------------------------------------------------\n",
       "const         0.131210         0.112099            1.170           0.242\n",
       "L1.a          0.714559         0.115806            6.170           0.000\n",
       "L1.b          0.057436         0.063082            0.910           0.363\n",
       "L1.c          0.719661         0.074673            9.638           0.000\n",
       "L2.a         -0.587790         0.117192           -5.016           0.000\n",
       "L2.b          0.032698         0.063341            0.516           0.606\n",
       "L2.c         -0.070957         0.074026           -0.959           0.338\n",
       "========================================================================\n",
       "\n",
       "Correlation matrix of residuals\n",
       "            a         b         c\n",
       "a    1.000000  0.053463  0.385319\n",
       "b    0.053463  1.000000 -0.043245\n",
       "c    0.385319 -0.043245  1.000000\n",
       "\n"
      ]
     },
     "execution_count": 6,
     "metadata": {},
     "output_type": "execute_result"
    }
   ],
   "source": [
    "bic_results.summary()"
   ]
  },
  {
   "cell_type": "code",
   "execution_count": 7,
   "id": "001ce508-5aaa-4f61-9acb-badb3a73940a",
   "metadata": {},
   "outputs": [
    {
     "data": {
      "text/plain": [
       "  Summary of Regression Results   \n",
       "==================================\n",
       "Model:                         VAR\n",
       "Method:                        OLS\n",
       "Date:           Thu, 12, May, 2022\n",
       "Time:                     20:09:59\n",
       "--------------------------------------------------------------------\n",
       "No. of Equations:         3.00000    BIC:                   -1.60467\n",
       "Nobs:                     197.000    HQIC:                  -1.90226\n",
       "Log likelihood:          -601.284    FPE:                   0.121920\n",
       "AIC:                     -2.10465    Det(Omega_mle):        0.105090\n",
       "--------------------------------------------------------------------\n",
       "Results for equation a\n",
       "========================================================================\n",
       "           coefficient       std. error           t-stat            prob\n",
       "------------------------------------------------------------------------\n",
       "const         0.355105         0.073387            4.839           0.000\n",
       "L1.a          1.091410         0.078175           13.961           0.000\n",
       "L1.b         -0.013131         0.040834           -0.322           0.748\n",
       "L1.c          0.240080         0.047365            5.069           0.000\n",
       "L2.a         -0.013985         0.105669           -0.132           0.895\n",
       "L2.b         -0.146476         0.050675           -2.890           0.004\n",
       "L2.c         -0.251862         0.056947           -4.423           0.000\n",
       "L3.a         -0.132079         0.075260           -1.755           0.079\n",
       "L3.b          0.080800         0.039689            2.036           0.042\n",
       "L3.c         -0.019724         0.051628           -0.382           0.702\n",
       "========================================================================\n",
       "\n",
       "Results for equation b\n",
       "========================================================================\n",
       "           coefficient       std. error           t-stat            prob\n",
       "------------------------------------------------------------------------\n",
       "const         0.080860         0.130880            0.618           0.537\n",
       "L1.a          0.436250         0.139418            3.129           0.002\n",
       "L1.b          0.792549         0.072824           10.883           0.000\n",
       "L1.c          0.349360         0.084471            4.136           0.000\n",
       "L2.a         -0.286274         0.188450           -1.519           0.129\n",
       "L2.b         -0.040279         0.090374           -0.446           0.656\n",
       "L2.c         -0.445621         0.101560           -4.388           0.000\n",
       "L3.a          0.216696         0.134220            1.614           0.106\n",
       "L3.b         -0.080420         0.070782           -1.136           0.256\n",
       "L3.c         -0.011112         0.092074           -0.121           0.904\n",
       "========================================================================\n",
       "\n",
       "Results for equation c\n",
       "========================================================================\n",
       "           coefficient       std. error           t-stat            prob\n",
       "------------------------------------------------------------------------\n",
       "const         0.232708         0.119809            1.942           0.052\n",
       "L1.a          0.644429         0.127624            5.049           0.000\n",
       "L1.b          0.051114         0.066664            0.767           0.443\n",
       "L1.c          0.681771         0.077325            8.817           0.000\n",
       "L2.a         -0.400278         0.172509           -2.320           0.020\n",
       "L2.b          0.136542         0.082729            1.650           0.099\n",
       "L2.c         -0.063466         0.092969           -0.683           0.495\n",
       "L3.a         -0.191199         0.122866           -1.556           0.120\n",
       "L3.b         -0.091091         0.064795           -1.406           0.160\n",
       "L3.c          0.057868         0.084285            0.687           0.492\n",
       "========================================================================\n",
       "\n",
       "Correlation matrix of residuals\n",
       "            a         b         c\n",
       "a    1.000000  0.074228  0.410780\n",
       "b    0.074228  1.000000 -0.030474\n",
       "c    0.410780 -0.030474  1.000000\n",
       "\n"
      ]
     },
     "execution_count": 7,
     "metadata": {},
     "output_type": "execute_result"
    }
   ],
   "source": [
    "aic_results.summary()"
   ]
  },
  {
   "cell_type": "markdown",
   "id": "a028d5d9-9d34-4d2b-8f10-4c5954173f53",
   "metadata": {},
   "source": [
    "Forecast variable ‘a’ 1 to 8 steps ahead with each VAR model"
   ]
  },
  {
   "cell_type": "code",
   "execution_count": 8,
   "id": "3965d856-3a19-45e4-bb29-def830d8604e",
   "metadata": {},
   "outputs": [],
   "source": [
    "# BIC\n",
    "bic_init_values = train[-p_bic:].values\n",
    "bic_fcst = bic_results.forecast(bic_init_values, steps=ntest)\n",
    "df_bic_fcst = pd.DataFrame(index=test.index, data=bic_fcst, columns=test.columns)\n",
    "df_bic_fcst = df_bic_fcst[['a']]"
   ]
  },
  {
   "cell_type": "code",
   "execution_count": 9,
   "id": "c6be3b3f-53bb-4e9c-bf62-ee980d2a0861",
   "metadata": {},
   "outputs": [],
   "source": [
    "# AIC\n",
    "aic_init_values = train[-p_aic:].values\n",
    "aic_fcst = aic_results.forecast(aic_init_values, steps=ntest)\n",
    "df_aic_fcst = pd.DataFrame(index=test.index, data=aic_fcst, columns=test.columns)\n",
    "df_aic_fcst = df_aic_fcst[['a']]"
   ]
  },
  {
   "cell_type": "markdown",
   "id": "af230826-31d1-419e-b9f7-f5e9d3696adf",
   "metadata": {},
   "source": [
    "## Task 1.2:"
   ]
  },
  {
   "cell_type": "markdown",
   "id": "a828e115-3c7c-4cdd-88f4-40c886aedbeb",
   "metadata": {},
   "source": [
    "select ARMA(p,q) orders for variable ‘a’ using AIC and BIC (again for the training sample)"
   ]
  },
  {
   "cell_type": "code",
   "execution_count": 10,
   "id": "9e6b5252-4680-4edf-a7b0-3d88479e42ad",
   "metadata": {},
   "outputs": [
    {
     "name": "stdout",
     "output_type": "stream",
     "text": [
      "The specification with the lowest BIC is ['3' '0' 'c'] and with the lowest AIC is ['0' '7' 'c']\n"
     ]
    }
   ],
   "source": [
    "train_sample_arma = train[['a']]\n",
    "\n",
    "info_criteria = np.empty((0,6))\n",
    "\n",
    "for ar in range(8):\n",
    "    for ma in range(8):\n",
    "        for const in ['n','c']:\n",
    "            arma_model = ARIMA(train_sample_arma, order=(ar, 0, ma), trend=const)\n",
    "            arma_results = arma_model.fit()\n",
    "            info_criteria= np.append(info_criteria, [[f'{ar}', f'{ma}', f'{const}', arma_results.aic, arma_results.bic, arma_results.resid]], axis=0)\n",
    "aic_idx_low = info_criteria[np.argmin(info_criteria[:,3])]\n",
    "bic_idx_low = info_criteria[np.argmin(info_criteria[:,4])]\n",
    "\n",
    "print(f'The specification with the lowest BIC is {bic_idx_low[:3]} and with the lowest AIC is {aic_idx_low[:3]}')"
   ]
  },
  {
   "cell_type": "markdown",
   "id": "c0e8bb44-280a-4c13-8efe-69c994be5cec",
   "metadata": {},
   "source": [
    "Estimate the selected ARMA(p,q) models using training sample."
   ]
  },
  {
   "cell_type": "code",
   "execution_count": 11,
   "id": "2d20d173-5eee-4a3e-a4b5-688784b0b8e8",
   "metadata": {},
   "outputs": [],
   "source": [
    "arma_bic = ARIMA(train_sample_arma, trend=bic_idx_low[2], order=(int(bic_idx_low[0]),0,int(bic_idx_low[1])))\n",
    "arma_bic_results = arma_bic.fit()"
   ]
  },
  {
   "cell_type": "code",
   "execution_count": 12,
   "id": "0d055f89-b258-4ca9-a5dc-783642628d82",
   "metadata": {},
   "outputs": [],
   "source": [
    "arma_aic = ARIMA(train_sample_arma, trend=aic_idx_low[2], order=(int(aic_idx_low[0]),0,int(aic_idx_low[1])))\n",
    "arma_aic_results = arma_aic.fit()"
   ]
  },
  {
   "cell_type": "markdown",
   "id": "b78fb115-8452-4911-9e3d-433213856320",
   "metadata": {},
   "source": [
    "Forecast 1 to 8 steps ahead with each ARMA model"
   ]
  },
  {
   "cell_type": "code",
   "execution_count": 13,
   "id": "10f164b4-50ac-4308-831e-66aa1c2e1120",
   "metadata": {},
   "outputs": [],
   "source": [
    "arma_aic_forecast = arma_aic_results.forecast(steps=8)\n",
    "arma_bic_forecast = arma_bic_results.forecast(steps=8)"
   ]
  },
  {
   "cell_type": "markdown",
   "id": "5c950d00-7ae3-42bc-a9c0-7b50f6d7861f",
   "metadata": {},
   "source": [
    "## Task 1.3:"
   ]
  },
  {
   "cell_type": "markdown",
   "id": "16da04e7-e20c-4f86-8a90-8d8577b3a549",
   "metadata": {},
   "source": [
    "Make a plot with variable ‘a’ showing the actual data for the full sample and the forecasts produced with each model."
   ]
  },
  {
   "cell_type": "code",
   "execution_count": 14,
   "id": "4fd0ad47-5959-4378-9fd2-2acd6fcfc928",
   "metadata": {},
   "outputs": [
    {
     "data": {
      "image/png": "[encoded data removed]",
      "text/plain": [
       "<Figure size 864x576 with 1 Axes>"
      ]
     },
     "metadata": {
      "needs_background": "light"
     },
     "output_type": "display_data"
    }
   ],
   "source": [
    "plt.figure(figsize=(12, 8))\n",
    "plt.plot(data[['a']][-70:], label='Data', color='k',linewidth=2)\n",
    "plt.plot(df_aic_fcst, label='Var-BIC-Forecast', color='olive', linewidth=1.5)\n",
    "plt.plot(df_aic_fcst, label='Var-AIC-Forecast', color='cyan', linewidth=1.5)\n",
    "plt.plot(arma_bic_forecast, label='ARMA-BIC-Forecast', color='pink', linewidth=1.5)\n",
    "plt.plot(arma_aic_forecast, label='ARMA-AIC-Forecast', color='red', linewidth=1.5)\n",
    "plt.legend()\n",
    "plt.ylabel('Values')\n",
    "plt.xlabel('Periods')\n",
    "plt.title(\"Variable 'a' forecasts\")\n",
    "\n",
    "plt.tight_layout()"
   ]
  }
 ],
 "metadata": {
  "kernelspec": {
   "display_name": "Python 3 (ipykernel)",
   "language": "python",
   "name": "python3"
  },
  "language_info": {
   "codemirror_mode": {
    "name": "ipython",
    "version": 3
   },
   "file_extension": ".py",
   "mimetype": "text/x-python",
   "name": "python",
   "nbconvert_exporter": "python",
   "pygments_lexer": "ipython3",
   "version": "3.9.7"
  }
 },
 "nbformat": 4,
 "nbformat_minor": 5
}
