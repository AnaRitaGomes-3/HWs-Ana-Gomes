{
 "cells": [
  {
   "cell_type": "markdown",
   "id": "623fb7e9-c20e-4d33-86a5-15ef30bedd33",
   "metadata": {},
   "source": [
    "## HW7"
   ]
  },
  {
   "cell_type": "code",
   "execution_count": 1,
   "id": "3a05f5c4-250d-472b-bad5-376b11eae17d",
   "metadata": {},
   "outputs": [],
   "source": [
    "import pandas as pd\n",
    "import statsmodels.api as sm\n",
    "from statsmodels.tsa.arima.model import ARIMA\n",
    "from statsmodels.tsa.arima.model import ARIMAResults\n",
    "from statsmodels.tsa.arima_process import ArmaProcess\n",
    "from numpy.random import default_rng\n",
    "import numpy as np\n",
    "from statsmodels.tsa.stattools import adfuller\n",
    "\n",
    "import warnings\n",
    "warnings.filterwarnings('ignore')"
   ]
  },
  {
   "cell_type": "markdown",
   "id": "56527365-5101-48c9-8698-e6e0f4fcba1c",
   "metadata": {},
   "source": [
    "## Part I"
   ]
  },
  {
   "cell_type": "markdown",
   "id": "7ddd3e9a-ac74-4f02-86ae-0765040b01c4",
   "metadata": {},
   "source": [
    "a) Generate N=1000 samples of T = 100 observations from a Gaussian zero-mean AR(1) process with alpha= 0.9. Using adfuller() function with 1 lag and no constant or time trend, test each sample for unit root. Print the % of times the null (of unit root) is rejected."
   ]
  },
  {
   "cell_type": "code",
   "execution_count": 2,
   "id": "25be9084-f278-45a4-ad43-8be117d8f6c6",
   "metadata": {},
   "outputs": [],
   "source": [
    "gen = np.random.default_rng(100)"
   ]
  },
  {
   "cell_type": "code",
   "execution_count": 3,
   "id": "15df279b-5f69-4968-b034-220952e21b73",
   "metadata": {},
   "outputs": [],
   "source": [
    "alpha=0.9\n",
    "\n",
    "ar_param = np.array([alpha])\n",
    "ma_param = np.array([0])\n",
    "ar = np.r_[1, -alpha]\n",
    "ma = np.r_[1, 0]\n",
    "ar1_process = ArmaProcess(ar, ma)\n",
    "\n",
    "n_obs = 100\n",
    "n_rep=500\n",
    "data = ar1_process.generate_sample(nsample = (n_obs, n_rep),  burnin=1000, distrvs=gen.standard_normal)"
   ]
  },
  {
   "cell_type": "code",
   "execution_count": 5,
   "id": "94cedfdd-a927-4378-8034-006ed5bca9e0",
   "metadata": {},
   "outputs": [
    {
     "data": {
      "text/plain": [
       "array([[-4.89850525, -2.02602575, -1.9042407 , -1.99571436,  0.17642201],\n",
       "       [-3.93123097, -3.16277086, -1.66848813, -3.11960184,  0.09681346],\n",
       "       [-4.95316403, -2.67774744, -2.17262057, -2.77348177,  1.84863365]])"
      ]
     },
     "execution_count": 5,
     "metadata": {},
     "output_type": "execute_result"
    }
   ],
   "source": [
    "data[:3,:5]"
   ]
  },
  {
   "cell_type": "markdown",
   "id": "54da3412-4f0b-48ba-9e22-a1ec6eef373d",
   "metadata": {},
   "source": [
    "</div> <div class=\"alert alert-block alert-danger\">\n",
    "\n",
    "in python, you can replace    \n",
    "    \n",
    "```\n",
    "number_rej_H0 = number_rej_H0 + 1\n",
    "```\n",
    "    \n",
    "with\n",
    "    \n",
    "```\n",
    "number_rej_H0 += 1\n",
    "```\n",
    "    \n",
    "    \n",
    "the advantage is that is is more easily readable"
   ]
  },
  {
   "cell_type": "code",
   "execution_count": 6,
   "id": "35d255fb-ad19-4ffd-bba3-7d9fe0dea41d",
   "metadata": {},
   "outputs": [
    {
     "name": "stdout",
     "output_type": "stream",
     "text": [
      "The null of unit root is rejected 75.6% of the time.\n"
     ]
    }
   ],
   "source": [
    "number_rej_H0=0\n",
    "p_value=0.05\n",
    "for c in range(0,n_rep):\n",
    "    dftest = adfuller(data[:,c], maxlag=1, autolag=None, regression='n')\n",
    "    if dftest[1] < p_value:\n",
    "        number_rej_H0=number_rej_H0+1\n",
    "percentage_rej= number_rej_H0/n_rep\n",
    "print(f'The null of unit root is rejected {percentage_rej*100}% of the time.')"
   ]
  },
  {
   "cell_type": "markdown",
   "id": "f070a5df-2f2b-4c2f-9440-f91bf1350039",
   "metadata": {},
   "source": [
    "b) Using the code you developed for (a) write a function which accepts N, T, and alpha as parameters and prints those values (T=, N=, alpha=) and the percent of rejections of the null hypothesis"
   ]
  },
  {
   "cell_type": "code",
   "execution_count": 12,
   "id": "685613b2-68ba-425b-a403-67c70c4d0fd1",
   "metadata": {},
   "outputs": [],
   "source": [
    "def test(n, t, alpha, p_value=0.05):\n",
    "    gen = np.random.default_rng(100)\n",
    "    ar_param = np.array([alpha])\n",
    "    ma_param = np.array([0])\n",
    "    ar = np.r_[1, -alpha]\n",
    "    ma = np.r_[1, 0]\n",
    "    ar1_process = ArmaProcess(ar, ma)\n",
    "\n",
    "    data = ar1_process.generate_sample(nsample = (t, n),  burnin=1000, distrvs=gen.normal)\n",
    "    \n",
    "    number_rej_H0=0\n",
    "    for c in range(0,n):\n",
    "        dftest = adfuller(data[:,c], maxlag=1, autolag=None, regression='n')\n",
    "        if dftest[1] < p_value:\n",
    "            number_rej_H0=number_rej_H0+1\n",
    "    percentage_rej= number_rej_H0/n\n",
    " \n",
    "    return t, n, alpha, percentage_rej"
   ]
  },
  {
   "cell_type": "markdown",
   "id": "68ee7d69-55ae-47ad-8605-d5d94582acb7",
   "metadata": {},
   "source": [
    "</div> <div class=\"alert alert-block alert-danger\">\n",
    "\n",
    "Here you run `test(1000,100,0.9)` 3 times unnecessarily. You could have the function print that information (as it says in the task description.) by adding\n",
    "```\n",
    "print(f'For t={t}, n={n}, alpha={alpha}, ADF rejects the null {100*percentage_rej}% of the times')\n",
    "```\n",
    " \n",
    "or run the function once, assign the last output to `perc_rej` and then print."
   ]
  },
  {
   "cell_type": "code",
   "execution_count": 8,
   "id": "ef5c04aa-b081-445f-beff-c130de6d7842",
   "metadata": {},
   "outputs": [
    {
     "name": "stdout",
     "output_type": "stream",
     "text": [
      "Given t=100, N=1000 and alpha0=0.9, the null of unit root is rejected 75.9% of the time.\n"
     ]
    }
   ],
   "source": [
    "print(f'Given t={test(1000,100,0.9)[0]}, N={test(1000,100,0.9)[1]} and alpha0={test(1000,100,0.9)[2]}, the null of unit root is rejected {test(1000,100,0.9)[3]*100}% of the time.')"
   ]
  },
  {
   "cell_type": "markdown",
   "id": "90838559-a31a-4dcd-a883-6e2b33e8a003",
   "metadata": {},
   "source": [
    "c) Run the function for N=1000 and all combinations of T=[100, 500, 1000], and alpha = [.9, 0.95, 0.99] and print the results as a table."
   ]
  },
  {
   "cell_type": "code",
   "execution_count": 8,
   "id": "810d918c-a95b-4c14-a648-b9defc66855a",
   "metadata": {},
   "outputs": [
    {
     "name": "stdout",
     "output_type": "stream",
     "text": [
      "            T=100  T=500 T=1000\n",
      "alpha=0.9   0.759    1.0    1.0\n",
      "alpha=0.95  0.348    1.0    1.0\n",
      "alpha=0.99  0.099  0.347  0.797\n"
     ]
    }
   ],
   "source": [
    "table=pd.DataFrame(columns=['T=100', 'T=500', 'T=1000'], index=['alpha=0.9','alpha=0.95','alpha=0.99'])\n",
    "\n",
    "for c in {100, 500, 1000}:\n",
    "    for x in {.9, 0.95, 0.99}:\n",
    "        T,N,alpha,rej=test(1000,c,x);\n",
    "        table.loc[f'alpha={x}',f'T={c}']=rej\n",
    "\n",
    "print(table)"
   ]
  },
  {
   "cell_type": "markdown",
   "id": "4eb5ceb1-0d4f-45df-8ec7-4766c2c3904c",
   "metadata": {},
   "source": [
    "</div> <div class=\"alert alert-block alert-danger\">\n",
    "\n",
    "The last line (and the first column) in the table shows that ADF (and all other unit root) tests cannot distinguish highly persistent stationary processes from nonstationary processes very well. This is called having low power (against I(0) alternative)"
   ]
  },
  {
   "cell_type": "code",
   "execution_count": null,
   "id": "c3d2c9f6-7142-4607-a7bf-c85c16f52775",
   "metadata": {},
   "outputs": [],
   "source": []
  }
 ],
 "metadata": {
  "kernelspec": {
   "display_name": "Python 3 (ipykernel)",
   "language": "python",
   "name": "python3"
  },
  "language_info": {
   "codemirror_mode": {
    "name": "ipython",
    "version": 3
   },
   "file_extension": ".py",
   "mimetype": "text/x-python",
   "name": "python",
   "nbconvert_exporter": "python",
   "pygments_lexer": "ipython3",
   "version": "3.10.2"
  }
 },
 "nbformat": 4,
 "nbformat_minor": 5
}
