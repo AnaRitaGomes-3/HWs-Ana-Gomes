{
 "cells": [
  {
   "cell_type": "markdown",
   "id": "f2cdf09f-39cb-4006-b487-f1398b9cb130",
   "metadata": {},
   "source": [
    "## Part II"
   ]
  },
  {
   "cell_type": "code",
   "execution_count": 1,
   "id": "c9ca1781-a6b7-4b94-9f5b-f5ce761ca3da",
   "metadata": {},
   "outputs": [],
   "source": [
    "import pandas as pd\n",
    "import statsmodels.api as sm\n",
    "from statsmodels.tsa.arima.model import ARIMA\n",
    "from statsmodels.tsa.arima.model import ARIMAResults\n",
    "from statsmodels.tsa.arima_process import ArmaProcess\n",
    "from numpy.random import default_rng\n",
    "import numpy as np\n",
    "from statsmodels.tsa.stattools import adfuller\n",
    "from arch.unitroot import ADF, DFGLS, PhillipsPerron, KPSS\n",
    "from arch import arch_model\n",
    "from statsmodels.tsa.api import SARIMAX, AutoReg\n",
    "from statsmodels.tsa.statespace.tools import diff\n",
    "\n",
    "import warnings\n",
    "warnings.filterwarnings('ignore')\n",
    "\n",
    "import matplotlib.pyplot as plt"
   ]
  },
  {
   "cell_type": "markdown",
   "id": "de74753f-8081-4eec-8001-2573f52fec9d",
   "metadata": {},
   "source": [
    "Load the data from data/data.txt in your HW7 directory Test for unit root using ADF, DFGLS, and Phillips-Perron tests, selecting the specification (constant, trend, number of lags) as you see fit (you should plot it). Test for stationarity using the KPSS test. What conclusion do you draw about the series? Given the specification you decide is most plausible, estimate the model parameters."
   ]
  },
  {
   "cell_type": "code",
   "execution_count": 2,
   "id": "ea9bd6c6-a0a7-4a8b-846c-f693787c6687",
   "metadata": {},
   "outputs": [
    {
     "data": {
      "text/plain": [
       "[<matplotlib.lines.Line2D at 0x1f1df505d80>]"
      ]
     },
     "execution_count": 2,
     "metadata": {},
     "output_type": "execute_result"
    },
    {
     "data": {
      "image/png": "[encoded data removed]",
      "text/plain": [
       "<Figure size 432x288 with 1 Axes>"
      ]
     },
     "metadata": {
      "needs_background": "light"
     },
     "output_type": "display_data"
    }
   ],
   "source": [
    "#Load the data\n",
    "data=np.loadtxt('data/data.txt')\n",
    "plt.plot(data)"
   ]
  },
  {
   "cell_type": "markdown",
   "id": "0ab9274a-6852-4e5b-8aa3-e738ee1d2d54",
   "metadata": {},
   "source": [
    " The graph above shows the presence of a trend and a constant, therefore we will include that type of trend in the tests below:"
   ]
  },
  {
   "cell_type": "code",
   "execution_count": 3,
   "id": "93912f98-5ab0-4edc-a413-b06d24c4960a",
   "metadata": {},
   "outputs": [
    {
     "data": {
      "text/html": [
       "<table class=\"simpletable\">\n",
       "<caption>Augmented Dickey-Fuller Results</caption>\n",
       "<tr>\n",
       "  <td>Test Statistic</td>    <td>-2.332</td>\n",
       "</tr>\n",
       "<tr>\n",
       "  <td>P-value</td>            <td>0.417</td>\n",
       "</tr>\n",
       "<tr>\n",
       "  <td>Lags</td>                   <td>0</td>\n",
       "</tr>\n",
       "</table><br/><br/>Trend: Constant and Linear Time Trend<br/>Critical Values: -4.05 (1%), -3.46 (5%), -3.15 (10%)<br/>Null Hypothesis: The process contains a unit root.<br/>Alternative Hypothesis: The process is weakly stationary."
      ],
      "text/plain": [
       "<class 'statsmodels.iolib.summary.Summary'>\n",
       "\"\"\"\n",
       "   Augmented Dickey-Fuller Results   \n",
       "=====================================\n",
       "Test Statistic                 -2.332\n",
       "P-value                         0.417\n",
       "Lags                                0\n",
       "-------------------------------------\n",
       "\n",
       "Trend: Constant and Linear Time Trend\n",
       "Critical Values: -4.05 (1%), -3.46 (5%), -3.15 (10%)\n",
       "Null Hypothesis: The process contains a unit root.\n",
       "Alternative Hypothesis: The process is weakly stationary.\n",
       "\"\"\""
      ]
     },
     "execution_count": 3,
     "metadata": {},
     "output_type": "execute_result"
    }
   ],
   "source": [
    "# ADF test\n",
    "\n",
    "adf = ADF(data, trend=\"ct\")\n",
    "adf.summary()"
   ]
  },
  {
   "cell_type": "code",
   "execution_count": 4,
   "id": "932adc9b-ae55-4753-98e3-778b22054832",
   "metadata": {},
   "outputs": [
    {
     "data": {
      "text/html": [
       "<table class=\"simpletable\">\n",
       "<caption>Dickey-Fuller GLS Results</caption>\n",
       "<tr>\n",
       "  <td>Test Statistic</td>    <td>-1.811</td>\n",
       "</tr>\n",
       "<tr>\n",
       "  <td>P-value</td>            <td>0.401</td>\n",
       "</tr>\n",
       "<tr>\n",
       "  <td>Lags</td>                   <td>0</td>\n",
       "</tr>\n",
       "</table><br/><br/>Trend: Constant and Linear Time Trend<br/>Critical Values: -3.62 (1%), -3.04 (5%), -2.74 (10%)<br/>Null Hypothesis: The process contains a unit root.<br/>Alternative Hypothesis: The process is weakly stationary."
      ],
      "text/plain": [
       "<class 'statsmodels.iolib.summary.Summary'>\n",
       "\"\"\"\n",
       "      Dickey-Fuller GLS Results      \n",
       "=====================================\n",
       "Test Statistic                 -1.811\n",
       "P-value                         0.401\n",
       "Lags                                0\n",
       "-------------------------------------\n",
       "\n",
       "Trend: Constant and Linear Time Trend\n",
       "Critical Values: -3.62 (1%), -3.04 (5%), -2.74 (10%)\n",
       "Null Hypothesis: The process contains a unit root.\n",
       "Alternative Hypothesis: The process is weakly stationary.\n",
       "\"\"\""
      ]
     },
     "execution_count": 4,
     "metadata": {},
     "output_type": "execute_result"
    }
   ],
   "source": [
    "#DFGLS test\n",
    "dfgls = DFGLS(data, trend=\"ct\")\n",
    "dfgls.summary()"
   ]
  },
  {
   "cell_type": "code",
   "execution_count": 5,
   "id": "7ee65217-6d6a-40d2-b976-83761db57d84",
   "metadata": {},
   "outputs": [
    {
     "data": {
      "text/html": [
       "<table class=\"simpletable\">\n",
       "<caption>Phillips-Perron Test (Z-tau)</caption>\n",
       "<tr>\n",
       "  <td>Test Statistic</td>    <td>-2.326</td>\n",
       "</tr>\n",
       "<tr>\n",
       "  <td>P-value</td>            <td>0.420</td>\n",
       "</tr>\n",
       "<tr>\n",
       "  <td>Lags</td>                  <td>12</td>\n",
       "</tr>\n",
       "</table><br/><br/>Trend: Constant and Linear Time Trend<br/>Critical Values: -4.05 (1%), -3.46 (5%), -3.15 (10%)<br/>Null Hypothesis: The process contains a unit root.<br/>Alternative Hypothesis: The process is weakly stationary."
      ],
      "text/plain": [
       "<class 'statsmodels.iolib.summary.Summary'>\n",
       "\"\"\"\n",
       "     Phillips-Perron Test (Z-tau)    \n",
       "=====================================\n",
       "Test Statistic                 -2.326\n",
       "P-value                         0.420\n",
       "Lags                               12\n",
       "-------------------------------------\n",
       "\n",
       "Trend: Constant and Linear Time Trend\n",
       "Critical Values: -4.05 (1%), -3.46 (5%), -3.15 (10%)\n",
       "Null Hypothesis: The process contains a unit root.\n",
       "Alternative Hypothesis: The process is weakly stationary.\n",
       "\"\"\""
      ]
     },
     "execution_count": 5,
     "metadata": {},
     "output_type": "execute_result"
    }
   ],
   "source": [
    "#Phillips-Perron test\n",
    "Phillips_Perron = PhillipsPerron(data, trend=\"ct\")\n",
    "Phillips_Perron.summary()"
   ]
  },
  {
   "cell_type": "code",
   "execution_count": 6,
   "id": "562a025a-2128-4b95-b3ec-16e390fde78e",
   "metadata": {},
   "outputs": [
    {
     "data": {
      "text/html": [
       "<table class=\"simpletable\">\n",
       "<caption>KPSS Stationarity Test Results</caption>\n",
       "<tr>\n",
       "  <td>Test Statistic</td>     <td>0.248</td>\n",
       "</tr>\n",
       "<tr>\n",
       "  <td>P-value</td>            <td>0.005</td>\n",
       "</tr>\n",
       "<tr>\n",
       "  <td>Lags</td>                   <td>5</td>\n",
       "</tr>\n",
       "</table><br/><br/>Trend: Constant and Linear Time Trend<br/>Critical Values: 0.22 (1%), 0.15 (5%), 0.12 (10%)<br/>Null Hypothesis: The process is weakly stationary.<br/>Alternative Hypothesis: The process contains a unit root."
      ],
      "text/plain": [
       "<class 'statsmodels.iolib.summary.Summary'>\n",
       "\"\"\"\n",
       "    KPSS Stationarity Test Results   \n",
       "=====================================\n",
       "Test Statistic                  0.248\n",
       "P-value                         0.005\n",
       "Lags                                5\n",
       "-------------------------------------\n",
       "\n",
       "Trend: Constant and Linear Time Trend\n",
       "Critical Values: 0.22 (1%), 0.15 (5%), 0.12 (10%)\n",
       "Null Hypothesis: The process is weakly stationary.\n",
       "Alternative Hypothesis: The process contains a unit root.\n",
       "\"\"\""
      ]
     },
     "execution_count": 6,
     "metadata": {},
     "output_type": "execute_result"
    }
   ],
   "source": [
    "#testing for stationarity\n",
    "kpss = KPSS(data, trend=\"ct\")\n",
    "kpss.summary()"
   ]
  },
  {
   "cell_type": "code",
   "execution_count": 7,
   "id": "cde4e722-d941-4365-9d2c-68fae1b5aae5",
   "metadata": {},
   "outputs": [
    {
     "data": {
      "text/html": [
       "<table class=\"simpletable\">\n",
       "<caption>Augmented Dickey-Fuller Results</caption>\n",
       "<tr>\n",
       "  <td>Test Statistic</td>    <td>-7.815</td>\n",
       "</tr>\n",
       "<tr>\n",
       "  <td>P-value</td>            <td>0.000</td>\n",
       "</tr>\n",
       "<tr>\n",
       "  <td>Lags</td>                   <td>1</td>\n",
       "</tr>\n",
       "</table><br/><br/>Trend: Constant<br/>Critical Values: -3.50 (1%), -2.89 (5%), -2.58 (10%)<br/>Null Hypothesis: The process contains a unit root.<br/>Alternative Hypothesis: The process is weakly stationary."
      ],
      "text/plain": [
       "<class 'statsmodels.iolib.summary.Summary'>\n",
       "\"\"\"\n",
       "   Augmented Dickey-Fuller Results   \n",
       "=====================================\n",
       "Test Statistic                 -7.815\n",
       "P-value                         0.000\n",
       "Lags                                1\n",
       "-------------------------------------\n",
       "\n",
       "Trend: Constant\n",
       "Critical Values: -3.50 (1%), -2.89 (5%), -2.58 (10%)\n",
       "Null Hypothesis: The process contains a unit root.\n",
       "Alternative Hypothesis: The process is weakly stationary.\n",
       "\"\"\""
      ]
     },
     "execution_count": 7,
     "metadata": {},
     "output_type": "execute_result"
    }
   ],
   "source": [
    "#There is unit-root, thus we do first order differences:\n",
    "delta_data=diff(data, k_diff=1)\n",
    "\n",
    "adf = ADF(delta_data, trend=\"c\")\n",
    "adf.summary()"
   ]
  },
  {
   "cell_type": "code",
   "execution_count": 8,
   "id": "5528b8d1-f704-421f-941b-8773c50dcd94",
   "metadata": {},
   "outputs": [],
   "source": [
    "#the null hypothesis was rejected,therefore we do not need to differentiate again"
   ]
  },
  {
   "cell_type": "code",
   "execution_count": 9,
   "id": "e3256084-c350-4d82-833a-0d7f3aeaf804",
   "metadata": {},
   "outputs": [
    {
     "data": {
      "text/plain": [
       "[<matplotlib.lines.Line2D at 0x1f1df670580>]"
      ]
     },
     "execution_count": 9,
     "metadata": {},
     "output_type": "execute_result"
    },
    {
     "data": {
      "image/png": "[encoded data removed]",
      "text/plain": [
       "<Figure size 432x288 with 1 Axes>"
      ]
     },
     "metadata": {
      "needs_background": "light"
     },
     "output_type": "display_data"
    }
   ],
   "source": [
    "plt.plot(delta_data)"
   ]
  },
  {
   "cell_type": "code",
   "execution_count": 11,
   "id": "0c137a6f-de31-4c23-a608-71a6c8c167b7",
   "metadata": {},
   "outputs": [
    {
     "name": "stdout",
     "output_type": "stream",
     "text": [
      "                               SARIMAX Results                                \n",
      "==============================================================================\n",
      "Dep. Variable:                      y   No. Observations:                  100\n",
      "Model:               SARIMAX(0, 1, 0)   Log Likelihood                -137.917\n",
      "Date:                Sat, 09 Apr 2022   AIC                            279.833\n",
      "Time:                        18:32:49   BIC                            285.024\n",
      "Sample:                             0   HQIC                           281.933\n",
      "                                - 100                                         \n",
      "Covariance Type:                  opg                                         \n",
      "==============================================================================\n",
      "                 coef    std err          z      P>|z|      [0.025      0.975]\n",
      "------------------------------------------------------------------------------\n",
      "intercept      0.5616      0.105      5.356      0.000       0.356       0.767\n",
      "sigma2         0.9496      0.114      8.311      0.000       0.726       1.174\n",
      "===================================================================================\n",
      "Ljung-Box (L1) (Q):                   0.00   Jarque-Bera (JB):                12.66\n",
      "Prob(Q):                              0.99   Prob(JB):                         0.00\n",
      "Heteroskedasticity (H):               1.10   Skew:                            -0.64\n",
      "Prob(H) (two-sided):                  0.79   Kurtosis:                         4.20\n",
      "===================================================================================\n",
      "\n",
      "Warnings:\n",
      "[1] Covariance matrix calculated using the outer product of gradients (complex-step).\n"
     ]
    }
   ],
   "source": [
    "lags=0 #according to what mentioned in the ADF test\n",
    "\n",
    "model = SARIMAX(data, order=(lags, 1, 0), trend=\"c\").fit()\n",
    "print(model.summary()) \n"
   ]
  },
  {
   "cell_type": "code",
   "execution_count": 12,
   "id": "bae55402-8a1c-4968-ad21-f549f000e294",
   "metadata": {},
   "outputs": [
    {
     "name": "stdout",
     "output_type": "stream",
     "text": [
      "                               SARIMAX Results                                \n",
      "==============================================================================\n",
      "Dep. Variable:                      y   No. Observations:                   99\n",
      "Model:                        SARIMAX   Log Likelihood                -137.917\n",
      "Date:                Sat, 09 Apr 2022   AIC                            279.833\n",
      "Time:                        18:32:52   BIC                            285.024\n",
      "Sample:                             0   HQIC                           281.933\n",
      "                                 - 99                                         \n",
      "Covariance Type:                  opg                                         \n",
      "==============================================================================\n",
      "                 coef    std err          z      P>|z|      [0.025      0.975]\n",
      "------------------------------------------------------------------------------\n",
      "intercept      0.5616      0.105      5.356      0.000       0.356       0.767\n",
      "sigma2         0.9496      0.114      8.311      0.000       0.726       1.174\n",
      "===================================================================================\n",
      "Ljung-Box (L1) (Q):                   0.00   Jarque-Bera (JB):                12.66\n",
      "Prob(Q):                              0.99   Prob(JB):                         0.00\n",
      "Heteroskedasticity (H):               1.10   Skew:                            -0.64\n",
      "Prob(H) (two-sided):                  0.79   Kurtosis:                         4.20\n",
      "===================================================================================\n",
      "\n",
      "Warnings:\n",
      "[1] Covariance matrix calculated using the outer product of gradients (complex-step).\n"
     ]
    }
   ],
   "source": [
    "#Estimate the model with the first differences, which gives us the same results\n",
    "lags=0\n",
    "model2 = SARIMAX(delta_data, order=(0, 0, 0), trend=\"c\").fit()\n",
    "print(model2.summary()) "
   ]
  },
  {
   "cell_type": "markdown",
   "id": "2d0d11e9-475a-488f-a933-0d520b39265e",
   "metadata": {},
   "source": [
    "## Conclusions: "
   ]
  },
  {
   "cell_type": "markdown",
   "id": "46a0e5dc-d957-4a99-82e5-842720028737",
   "metadata": {},
   "source": [
    "From the tests above, we can conclude that there is a unit root in the data. The ADF, the Phillips-Perron and the DFGLS test do not reject the null of containing a unit root. The KPSS test for stationarity rejects the null, which gives evidence of non-stationarity"
   ]
  },
  {
   "cell_type": "code",
   "execution_count": null,
   "id": "6c775eb7-2c10-44ed-8473-a3e36ebe7fdd",
   "metadata": {},
   "outputs": [],
   "source": []
  }
 ],
 "metadata": {
  "kernelspec": {
   "display_name": "Python 3 (ipykernel)",
   "language": "python",
   "name": "python3"
  },
  "language_info": {
   "codemirror_mode": {
    "name": "ipython",
    "version": 3
   },
   "file_extension": ".py",
   "mimetype": "text/x-python",
   "name": "python",
   "nbconvert_exporter": "python",
   "pygments_lexer": "ipython3",
   "version": "3.10.4"
  }
 },
 "nbformat": 4,
 "nbformat_minor": 5
}
