{
 "cells": [
  {
   "cell_type": "markdown",
   "id": "d99094f7-95de-4017-a28c-77195248583f",
   "metadata": {},
   "source": [
    "# HW 2 Part 3\n",
    "\n",
    "In this notebook you just have to reorganize the content of the notebook for Part 2. Specifically, put all functions in a single cell in the beginning of the notebook, after the cell with imports, and in the cell or cells below copy and paste the rest of the content from the previous notebook, so that you will be able to produce the plots from task 2.6. That means that if you delete the png files produced in Part 2, and then click on Kernel -> `Restart Kernel and Run All Cells`, the same two files with rolling standard deviations plots should be recreated."
   ]
  },
  {
   "cell_type": "code",
   "execution_count": 1,
   "id": "c5d815ce-3f2b-4417-9c6e-47edbb4bf1fa",
   "metadata": {},
   "outputs": [],
   "source": [
    "# import the necessary packages\n",
    "import io\n",
    "import pandas as pd\n",
    "import requests\n",
    "import matplotlib.pyplot as plt\n",
    "%matplotlib inline\n"
   ]
  },
  {
   "cell_type": "code",
   "execution_count": 2,
   "id": "e6b90075-b24c-482c-b283-d133096dd44d",
   "metadata": {},
   "outputs": [],
   "source": [
    "\n",
    "#import codes\n",
    "url = 'https://sdw.ecb.europa.eu/datastructure.do?conceptMnemonic=ICP_ITEM&datasetinstanceid=122#cl'\n",
    "\n",
    "r  = requests.get(url, headers={\"Accept\": \"text/csv\"})    \n",
    "hicp_codes = pd.read_html(r.text)[1]\n",
    "hicp_codes.set_index('Code', inplace=True)\n",
    "hicp_codes\n",
    "\n",
    "# define functions\n",
    "\n",
    "def cod(x,y):\n",
    "    if y==1:\n",
    "        number = [c for c in hicp_codes.index if c.startswith(f'0{x}') & c.endswith('0000')]\n",
    "    elif y==2:\n",
    "        number = [c for c in hicp_codes.index if c.startswith(f'0{x}') & c.endswith('000') if not c.endswith('0000')]\n",
    "    elif y==3:\n",
    "        number = [c for c in hicp_codes.index if c.startswith(f'0{x}') & c.endswith('00') if not c.startswith(f'0.0') | c.endswith('000')]\n",
    "    else:\n",
    "        number = [c for c in hicp_codes.index if c.startswith(f'0{x}')]\n",
    "    \n",
    "    return hicp_codes.loc[number,['Code Description']]\n",
    "\n",
    "\n",
    "def dow(x):\n",
    "    \n",
    "    SDW_URL = \"https://sdw-wsrest.ecb.europa.eu/service/data\"\n",
    "    series_code = f'ICP/M.U2.N.{x}.4.ANR'\n",
    "    ecburl = f\"{SDW_URL}/{series_code}\"\n",
    "    response = requests.get(ecburl, headers={\"Accept\": \"text/csv\"})\n",
    "    assert response.status_code == 200, 'Failed to get a correct reponse'\n",
    "\n",
    "    df_series = pd.read_csv(io.StringIO(response.text))\n",
    "    df_series = df_series[[\"TIME_PERIOD\", \"OBS_VALUE\"]].copy()\n",
    "\n",
    "    df_series.columns.values[0]='date'\n",
    "    df_series.columns.values[1]=x\n",
    "\n",
    "    new_index = pd.to_datetime(df_series.date)\n",
    "    df_series.index=new_index\n",
    "\n",
    "    df_series.drop('date', axis=1, inplace=True)\n",
    "    \n",
    "    return df_series\n",
    "\n",
    "\n",
    "def clean(df, thr):\n",
    "    df_clean=df[df.columns[df.isna().mean()<thr]]\n",
    "   \n",
    "    return df_clean\n",
    "\n",
    "def mostsd(df, start, end):\n",
    "    max_item_code = df.loc[start:end, :].std().idxmax()\n",
    "    max_item_std = round(df.loc[start:end, :].std().max(), 3)\n",
    "    d = {\n",
    "        'code': max_item_code,\n",
    "        'std': max_item_std\n",
    "    }\n",
    "    return d\n",
    "\n",
    "\n",
    "\n",
    "def img (df, intg):\n",
    "    df=df.squeeze()\n",
    "    df_rol_sd=df.rolling(window=intg).std()\n",
    "    df_rol_sd.dropna(axis=0, how='all',inplace=True)\n",
    "                         \n",
    "    plt.plot(df_rol_sd.index, df_rol_sd)\n",
    "    plt.xlabel('Date')\n",
    "    plt.ylabel('Rolling window std')            \n",
    "    plt.title('Rolling window standard deviations for the most volatile item') \n",
    "    plt.savefig(f\"fig_{df.name}_rol_sd_{intg}\", dpi=300)    \n",
    "    \n"
   ]
  },
  {
   "cell_type": "code",
   "execution_count": 3,
   "id": "738a1dbc-9fc8-4a7a-9434-d00cfeeb61ca",
   "metadata": {},
   "outputs": [],
   "source": [
    "#Getting the list of codes\n",
    "codes=cod(9,3)\n",
    "codes=codes.index.tolist()\n",
    "\n",
    "#Generating the dataframe\n",
    "list_of_dfs = []\n",
    "\n",
    "for c in codes:\n",
    "    try:\n",
    "        data_f=dow(c)\n",
    "        list_of_dfs.append(data_f)\n",
    "    except:\n",
    "         pass\n",
    "df_hicp_all = pd.concat(list_of_dfs, axis=1)\n",
    "df_hicp_all\n",
    "\n",
    "\n",
    "#Generating the dataframe cleaned from codes with missing values >50%\n",
    "df_nona=clean(df_hicp_all, 0.5)\n",
    "\n",
    "#Finding the most volatile\n",
    "start_fp=df_hicp_all.index[0].strftime('%Y-%m-%d')\n",
    "end_fp=df_hicp_all.index[-1].strftime('%Y-%m-%d')\n",
    "start_last24=df_hicp_all.index[-24].strftime('%Y-%m-%d')\n",
    "end_last24=df_hicp_all.index[-1].strftime('%Y-%m-%d')\n",
    "\n",
    "dict_max_fp = mostsd(df_hicp_all, start_fp, end_fp)\n",
    "\n"
   ]
  },
  {
   "cell_type": "code",
   "execution_count": 4,
   "id": "4c9ae016-b35a-4cdd-b64f-ce5578528c97",
   "metadata": {},
   "outputs": [
    {
     "data": {
      "image/png": "[encoded data removed]",
      "text/plain": [
       "<Figure size 432x288 with 1 Axes>"
      ]
     },
     "metadata": {
      "needs_background": "light"
     },
     "output_type": "display_data"
    }
   ],
   "source": [
    "img(df_nona.loc[:,'092300'],24)"
   ]
  },
  {
   "cell_type": "code",
   "execution_count": 5,
   "id": "b69b276b-32a0-4a46-acc1-a3169946978d",
   "metadata": {},
   "outputs": [],
   "source": [
    "def img_mostvol(codigo, windw, start, end):\n",
    "    codes=cod(codigo,3)\n",
    "    codes=codes.index.tolist()\n",
    "\n",
    "    #Generating the dataframe\n",
    "    list_of_dfs = []\n",
    "\n",
    "    for c in codes:\n",
    "        try:\n",
    "            temp_df=dow(c)\n",
    "            list_of_dfs.append(temp_df)\n",
    "        except:\n",
    "            pass\n",
    "\n",
    "    df_hicp_all = pd.concat(list_of_dfs, axis=1)\n",
    "\n",
    "    df_hicp_all\n",
    "\n",
    "    #Generating the dataframe cleaned from codes with missing values >50%\n",
    "    df_nona=clean(df_hicp_all, 0.5)\n",
    "\n",
    "    #Finding the most volatile\n",
    "    dict_max = mostsd(df_hicp_all, start, end)\n",
    "\n",
    "    #Generating the plot\n",
    "    img(df_nona.loc[:, dict_max['code']], 24)\n",
    "    \n",
    "    return img(df_nona.loc[:, dict_max['code']], 24)"
   ]
  },
  {
   "cell_type": "code",
   "execution_count": 6,
   "id": "ee1331f5-a826-49c9-b8ab-938fe040198e",
   "metadata": {},
   "outputs": [
    {
     "data": {
      "image/png": "[encoded data removed]",
      "text/plain": [
       "<Figure size 432x288 with 1 Axes>"
      ]
     },
     "metadata": {
      "needs_background": "light"
     },
     "output_type": "display_data"
    }
   ],
   "source": [
    "img_mostvol(9, 24, '1996-01-01', '2022-01-01')"
   ]
  },
  {
   "cell_type": "code",
   "execution_count": null,
   "id": "ed326085-3324-4405-b9dd-2e51f6aeaaec",
   "metadata": {},
   "outputs": [],
   "source": []
  }
 ],
 "metadata": {
  "kernelspec": {
   "display_name": "Python 3 (ipykernel)",
   "language": "python",
   "name": "python3"
  },
  "language_info": {
   "codemirror_mode": {
    "name": "ipython",
    "version": 3
   },
   "file_extension": ".py",
   "mimetype": "text/x-python",
   "name": "python",
   "nbconvert_exporter": "python",
   "pygments_lexer": "ipython3",
   "version": "3.9.7"
  }
 },
 "nbformat": 4,
 "nbformat_minor": 5
}
