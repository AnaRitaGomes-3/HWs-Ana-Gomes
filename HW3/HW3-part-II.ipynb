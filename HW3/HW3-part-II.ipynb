{
 "cells": [
  {
   "cell_type": "markdown",
   "id": "96b3e9d9-60d6-406b-bedc-fe11d35acf5b",
   "metadata": {},
   "source": [
    "# HW 3 Part 2-2"
   ]
  },
  {
   "cell_type": "markdown",
   "id": "a1255ecf-7e22-4ff4-81ee-ad5b719cfd31",
   "metadata": {},
   "source": [
    "The multivariate normal probability density function is\n",
    "\n",
    "$$\n",
    "p\\left(\\boldsymbol z \\right)=\\left(2\\pi\\right)^{-\\left(\\frac{T}{2}\\right)}\\det\\left(\\Sigma\\right)^{-\\frac{1}{2}}\\exp\\left(-.5\\left(\\boldsymbol z-\\mu\\right)^{\\prime}\\Sigma^{-1}\\left(\\boldsymbol z-\\mu\\right)\\right)\n",
    "\\tag{1}$$\n",
    "\n",
    "* where $ \\boldsymbol \\mu =\\operatorname{E} \\boldsymbol z $ is the mean of the $Tx1$-dimensional random vector $ \\boldsymbol z$ \n",
    "* and\n",
    "$ \\Sigma=\\operatorname{E}\\left(\\boldsymbol z -\\boldsymbol \\mu \\right)\\left(\\boldsymbol z- \\boldsymbol \\mu \\right)^\\prime = \\operatorname{cov}(\\boldsymbol z) $ is the covariance matrix of $ \\boldsymbol z $"
   ]
  },
  {
   "cell_type": "code",
   "execution_count": 53,
   "id": "892aacfe-19c5-42fb-bd79-e76b99732d66",
   "metadata": {},
   "outputs": [],
   "source": [
    "# import numpy\n",
    "import numpy as np\n"
   ]
  },
  {
   "cell_type": "markdown",
   "id": "8ba61050-9f82-45b8-9fab-7e2bff98533c",
   "metadata": {},
   "source": [
    "__2.1__ Create Mu as\n",
    "\n",
    "$$\n",
    "\\boldsymbol \\mu = \n",
    "    \\begin{bmatrix}\n",
    "      1 \\\\\n",
    "      1\n",
    "    \\end{bmatrix}\n",
    "$$"
   ]
  },
  {
   "cell_type": "code",
   "execution_count": 54,
   "id": "0ead6ab8-fc00-4148-94ea-58b7d344344d",
   "metadata": {},
   "outputs": [
    {
     "name": "stdout",
     "output_type": "stream",
     "text": [
      "[[1]\n",
      " [1]]\n"
     ]
    }
   ],
   "source": [
    "MU = np.array([[1],[1]])\n",
    "print(MU)"
   ]
  },
  {
   "cell_type": "code",
   "execution_count": 55,
   "id": "cd07313d-6e72-48a6-b626-30848a36df6a",
   "metadata": {},
   "outputs": [
    {
     "data": {
      "text/plain": [
       "True"
      ]
     },
     "execution_count": 55,
     "metadata": {},
     "output_type": "execute_result"
    }
   ],
   "source": [
    "#assert\n",
    "MU.shape==(2,1)"
   ]
  },
  {
   "cell_type": "markdown",
   "id": "0523da00-e786-47b0-88a2-b36a97c278c1",
   "metadata": {},
   "source": [
    "__2.2__ Create SIGMA as\n",
    "\n",
    "$$\n",
    "    \\mathbf{\\Sigma} = \n",
    "    \\begin{bmatrix}\n",
    "         1 & 0.9 \\\\\n",
    "         0.9 & 1\n",
    "    \\end{bmatrix}\n",
    "$$"
   ]
  },
  {
   "cell_type": "code",
   "execution_count": 56,
   "id": "a93a57cd-75eb-4eb8-b227-a588c868b9f8",
   "metadata": {},
   "outputs": [
    {
     "data": {
      "text/plain": [
       "True"
      ]
     },
     "execution_count": 56,
     "metadata": {},
     "output_type": "execute_result"
    }
   ],
   "source": [
    "SIGMA = np.array([[1, 0.9] , [0.9,1]])\n",
    "#assert \n",
    "SIGMA.shape==(2,2)"
   ]
  },
  {
   "cell_type": "markdown",
   "id": "62acd2a7-6be1-4d21-abbe-befac965c762",
   "metadata": {},
   "source": [
    "__2.3__ Compute the determinant of SIGMA \n",
    "\n",
    "$$\\det\\left(\\Sigma\\right)$$\n",
    "\n",
    "__HINT:__ [see here](https://numpy.org/doc/stable/reference/routines.linalg.html)"
   ]
  },
  {
   "cell_type": "code",
   "execution_count": 57,
   "id": "83b78c74-5676-4c70-b38c-23cf3ca0ae22",
   "metadata": {},
   "outputs": [
    {
     "data": {
      "text/plain": [
       "0.18999999999999997"
      ]
     },
     "execution_count": 57,
     "metadata": {},
     "output_type": "execute_result"
    }
   ],
   "source": [
    "detSIGMA = np.linalg.det(SIGMA)\n",
    "detSIGMA"
   ]
  },
  {
   "cell_type": "markdown",
   "id": "442e7335-8e2b-43af-8311-da877177087a",
   "metadata": {},
   "source": [
    "__2.4__ Compute the inverse of SIGMA \n",
    "\n",
    "$$\\Sigma^{-1}$$\n",
    "\n",
    "__HINT:__ [see here](https://numpy.org/doc/stable/reference/routines.linalg.html)"
   ]
  },
  {
   "cell_type": "code",
   "execution_count": 58,
   "id": "a383859e-e413-42d3-9abe-71f1f2e3a3ca",
   "metadata": {},
   "outputs": [
    {
     "data": {
      "text/plain": [
       "array([[ 5.26315789, -4.73684211],\n",
       "       [-4.73684211,  5.26315789]])"
      ]
     },
     "execution_count": 58,
     "metadata": {},
     "output_type": "execute_result"
    }
   ],
   "source": [
    "invSIGMA = np.linalg.inv(SIGMA)\n",
    "invSIGMA"
   ]
  },
  {
   "cell_type": "markdown",
   "id": "228e5b81-00c8-44e2-a0c6-b426105c08a1",
   "metadata": {},
   "source": [
    "__2.5__ Generate __1__ draw from bivariate normal distribution with mean Mu and covariance SIGMA, using \n",
    "\n",
    "`gen = np.random.default_rng(100)`\n",
    "\n",
    "__HINT:__ the `multivariate_normal` function expects `mean` as a 1-D array. What is the dimension of Mu?"
   ]
  },
  {
   "cell_type": "code",
   "execution_count": 59,
   "id": "f44915aa-a927-4e7c-a61d-b0d8ca5c0578",
   "metadata": {},
   "outputs": [
    {
     "name": "stdout",
     "output_type": "stream",
     "text": [
      "[[2.06344847 2.1930312 ]]\n"
     ]
    }
   ],
   "source": [
    "gen = np.random.default_rng(100)\n",
    "\n",
    "z = gen.multivariate_normal(mean=MU.flatten(),  cov=SIGMA, size=1) \n",
    "\n",
    "print(z)"
   ]
  },
  {
   "cell_type": "markdown",
   "id": "9861d9d3-2b78-4d08-bec4-0ea967e9cc7c",
   "metadata": {},
   "source": [
    "__2.6__ Compute the difference between z and Mu and assign it to variable `residual` which has the same dimensions as Mu\n",
    "\n",
    "__Hint__ check the `shape` of z"
   ]
  },
  {
   "cell_type": "code",
   "execution_count": 60,
   "id": "95eae0c4-c54b-47df-940d-f9bcfbb286d1",
   "metadata": {},
   "outputs": [
    {
     "data": {
      "text/plain": [
       "array([[1.06344847],\n",
       "       [1.1930312 ]])"
      ]
     },
     "execution_count": 60,
     "metadata": {},
     "output_type": "execute_result"
    }
   ],
   "source": [
    "z = z.reshape(2,1)\n",
    "residual = z - MU\n",
    "residual"
   ]
  },
  {
   "cell_type": "markdown",
   "id": "05e1866c-3726-4285-9c73-61b194ffa217",
   "metadata": {},
   "source": [
    "__2.7__ Compute \n",
    "\n",
    "$$\\left(\\boldsymbol z-\\mu\\right)^{\\prime}\\Sigma^{-1}\\left(\\boldsymbol z-\\mu\\right)$$\n",
    "\n",
    "and assign the value to variable `dist`"
   ]
  },
  {
   "cell_type": "code",
   "execution_count": 61,
   "id": "491c4634-59a0-4ef9-b547-5060e096ea07",
   "metadata": {},
   "outputs": [
    {
     "data": {
      "text/plain": [
       "array([[1.42387961]])"
      ]
     },
     "execution_count": 61,
     "metadata": {},
     "output_type": "execute_result"
    }
   ],
   "source": [
    "dist = residual.T @ invSIGMA @ residual\n",
    "dist"
   ]
  },
  {
   "cell_type": "markdown",
   "id": "2760289e-b7e7-4fb3-bedc-9a895b73fa39",
   "metadata": {},
   "source": [
    "__2.8__ Compute \n",
    "\n",
    "$$ \\left(2\\pi\\right)^{-\\left(\\frac{T}{2}\\right)}\\det\\left(\\Sigma\\right)^{-\\frac{1}{2}} $$\n",
    "\n",
    "and assign ot to variable `const`"
   ]
  },
  {
   "cell_type": "code",
   "execution_count": 62,
   "id": "8f3c7551-ab0b-41f8-a656-c110e78efb4b",
   "metadata": {},
   "outputs": [
    {
     "data": {
      "text/plain": [
       "0.3651264806855467"
      ]
     },
     "execution_count": 62,
     "metadata": {},
     "output_type": "execute_result"
    }
   ],
   "source": [
    "T = np.shape(z)[0]\n",
    "pi = np.pi\n",
    "const = (2 * pi)**(-T/2) * detSIGMA**(-1/2)\n",
    "const"
   ]
  },
  {
   "cell_type": "markdown",
   "id": "017631a9-9a39-4711-947d-3c54c22e3610",
   "metadata": {},
   "source": [
    "__2.9__ Compute the value probability density function\n",
    "\n",
    "$$\n",
    "p\\left(\\boldsymbol z \\right)=\\left(2\\pi\\right)^{-\\left(\\frac{T}{2}\\right)}\\det\\left(\\Sigma\\right)^{-\\frac{1}{2}}\\exp\\left(-.5\\left(\\boldsymbol z-\\mu\\right)^{\\prime}\\Sigma^{-1}\\left(\\boldsymbol z-\\mu\\right)\\right)\n",
    "\\tag{1}$$\n",
    "\n",
    "and assign it to variable `likelihood`"
   ]
  },
  {
   "cell_type": "code",
   "execution_count": 63,
   "id": "5c908d59-47d1-49c2-9943-5a4edc74ec0a",
   "metadata": {},
   "outputs": [
    {
     "data": {
      "text/plain": [
       "array([[0.00029548]])"
      ]
     },
     "execution_count": 63,
     "metadata": {},
     "output_type": "execute_result"
    }
   ],
   "source": [
    "likelihood = const * np.exp(-5 * dist)\n",
    "likelihood"
   ]
  },
  {
   "cell_type": "markdown",
   "id": "e2fc555d-4830-4cd8-95cf-2021f6ff7579",
   "metadata": {},
   "source": [
    "__2.10__ Compute the log of the likelihood and assign it to variable `log_likelihood`"
   ]
  },
  {
   "cell_type": "code",
   "execution_count": 64,
   "id": "9df998cc-4dc4-4ad0-b5bd-63da7f86f200",
   "metadata": {},
   "outputs": [
    {
     "data": {
      "text/plain": [
       "array([[-8.12690952]])"
      ]
     },
     "execution_count": 64,
     "metadata": {},
     "output_type": "execute_result"
    }
   ],
   "source": [
    "log_likelihood = np.log(likelihood)\n",
    "log_likelihood"
   ]
  },
  {
   "cell_type": "markdown",
   "id": "0280b1de-df6c-4f7f-85ed-73c15b4bf2e7",
   "metadata": {},
   "source": [
    "__2.11__ Write a function which takes a T dimensional vector z, a T-dimensional vector Mu, and a TxT dimensional matrix SIGMA, and returns the value of the gaussian log-likelihood. Test it with the z, Mu, and SIGMA you generated above.\n",
    "\n",
    "__HINT:__ Since we want the log-likelihood, it is not necesary to first compute the likelihood, as you did above. You can apply the log to the expression in (1) (or google gaussian loglikelihood) and implement that formula directly. That would be simpler, but following the same steps as above is also acceptable as a solution."
   ]
  },
  {
   "cell_type": "code",
   "execution_count": 65,
   "id": "e6eea53e-9819-4724-af63-2a060f5598a4",
   "metadata": {},
   "outputs": [],
   "source": [
    "def get_log_lik(z, Mu, SIGMA):\n",
    "    \n",
    "    T = np.shape(z)[0]\n",
    "    pi = np.pi\n",
    "    \n",
    "    log_likelihood = np.log(((2 * pi)**(-T/2) * (np.linalg.det(SIGMA))**(-1/2)) * np.exp(-5 * ((z - MU).T @ (np.linalg.inv(SIGMA)) @ (z - MU))))\n",
    "    \n",
    "    return log_likelihood"
   ]
  },
  {
   "cell_type": "code",
   "execution_count": 66,
   "id": "6dc96cef-018a-4742-abce-4ba50cad1097",
   "metadata": {},
   "outputs": [],
   "source": [
    "log_lik = get_log_lik(z, MU, SIGMA)\n",
    "np.testing.assert_almost_equal(log_likelihood, log_lik)"
   ]
  },
  {
   "cell_type": "code",
   "execution_count": 67,
   "id": "05e7dba4-0606-45c5-bacd-7d947d40b383",
   "metadata": {},
   "outputs": [
    {
     "data": {
      "text/plain": [
       "array([[-8.12690952]])"
      ]
     },
     "execution_count": 67,
     "metadata": {},
     "output_type": "execute_result"
    }
   ],
   "source": [
    "get_log_lik(z, MU, SIGMA)"
   ]
  },
  {
   "cell_type": "code",
   "execution_count": null,
   "id": "862a197f-9441-4789-b650-50aeeba17f51",
   "metadata": {},
   "outputs": [],
   "source": []
  }
 ],
 "metadata": {
  "kernelspec": {
   "display_name": "Python 3 (ipykernel)",
   "language": "python",
   "name": "python3"
  },
  "language_info": {
   "codemirror_mode": {
    "name": "ipython",
    "version": 3
   },
   "file_extension": ".py",
   "mimetype": "text/x-python",
   "name": "python",
   "nbconvert_exporter": "python",
   "pygments_lexer": "ipython3",
   "version": "3.9.7"
  }
 },
 "nbformat": 4,
 "nbformat_minor": 5
}
