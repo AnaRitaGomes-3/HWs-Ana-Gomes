{
 "cells": [
  {
   "cell_type": "markdown",
   "id": "84ffeb57-a70d-4098-97dd-6db16d6b0878",
   "metadata": {},
   "source": [
    "## Part 2 \n",
    "\n",
    "### In this part you will simulate a sample of T = 100 observations from a stationary AR(1) process with $\\alpha=0.8$, $\\sigma^2 = 1$"
   ]
  },
  {
   "cell_type": "code",
   "execution_count": 1,
   "id": "9280925e-0866-4551-a612-8116e951861b",
   "metadata": {},
   "outputs": [],
   "source": [
    "import numpy as np"
   ]
  },
  {
   "cell_type": "markdown",
   "id": "5f83baae-de32-4dab-97dc-f09eb9c17c9f",
   "metadata": {},
   "source": [
    "Generate a $T$ vector of innovations using `gen = np.random.default_rng(100)`"
   ]
  },
  {
   "cell_type": "code",
   "execution_count": 2,
   "id": "1059b89b-4c2e-4ae3-b3e1-22ddf78aed00",
   "metadata": {},
   "outputs": [],
   "source": [
    "T=100\n",
    "gen = np.random.default_rng(100)\n",
    "eps = gen.standard_normal(T)"
   ]
  },
  {
   "cell_type": "markdown",
   "id": "5e85aaf1-db7d-4d27-adbc-4c2fb750425d",
   "metadata": {},
   "source": [
    "Using $\\varepsilon_0$, generate $z_0$ from the stationary distribution of $\\mathbf{z}$. Then, using a `for` loop, generate the remaining 99 realizations of $\\mathbf{z}$"
   ]
  },
  {
   "cell_type": "code",
   "execution_count": 3,
   "id": "e1523430-5a0f-4387-8bf2-403dc67c8580",
   "metadata": {},
   "outputs": [
    {
     "data": {
      "text/plain": [
       "array([-1.92924941e+00, -1.25364373e+00, -2.22060913e-01,  3.66324915e-01,\n",
       "       -6.68322709e-01,  5.36350498e-01,  1.13053606e+00,  1.60940230e+00,\n",
       "        2.03258444e+00,  2.73041479e+00,  4.42730423e+00,  2.93035026e+00,\n",
       "        2.39149139e+00,  3.66742780e+00,  1.59596237e+00,  1.60234437e+00,\n",
       "        5.92757776e-01,  4.54384411e-01,  8.38260775e-01, -1.26049280e+00,\n",
       "       -2.00087252e+00, -3.00616909e+00, -2.63603078e+00, -2.79767171e+00,\n",
       "       -7.23031590e-01, -1.18159682e+00,  7.68407033e-01,  2.08476435e-01,\n",
       "        4.38190669e-01,  3.90392735e-01,  3.23832507e-01, -8.68112003e-01,\n",
       "       -3.59776627e-01,  9.60702469e-02,  3.14691711e-01,  8.73165044e-01,\n",
       "       -1.20713512e-01, -3.94150015e-01, -9.76882717e-01, -2.48567650e+00,\n",
       "       -1.62100488e+00, -1.93229270e+00, -1.62355466e+00,  9.50924107e-01,\n",
       "        9.91049815e-01,  9.00255752e-01,  1.79415038e+00,  2.68167422e+00,\n",
       "        3.95823207e+00,  2.64510169e+00,  3.91201629e+00,  2.99825523e+00,\n",
       "        1.24037739e+00,  6.34105990e-02,  1.15857536e+00,  1.68940185e+00,\n",
       "        2.63404533e+00,  1.18541180e+00,  6.08539486e-01, -7.10885526e-01,\n",
       "       -2.54429416e+00, -2.05349880e+00, -6.01044184e-02,  1.06400359e+00,\n",
       "        7.40175996e-02,  1.22668386e+00,  4.04568847e-01,  6.35766890e-01,\n",
       "        1.33560270e+00,  6.60896532e-01, -3.55920206e-01,  3.64876486e-01,\n",
       "        1.14698111e-01, -4.60077370e-01,  2.66234193e-01, -1.98332569e-03,\n",
       "        3.81279144e-01, -6.60585549e-01,  1.95558785e-01, -7.90218347e-01,\n",
       "       -1.01782671e+00, -2.68590037e+00, -9.89740749e-01, -6.98160724e-01,\n",
       "       -9.57584118e-02, -1.77914845e+00, -1.26977581e+00, -1.41020013e+00,\n",
       "        6.88702962e-02, -1.51540696e+00, -8.59466042e-01,  3.68004403e-01,\n",
       "       -8.97916505e-01, -6.09209372e-01, -1.57171154e+00, -1.21418363e+00,\n",
       "       -6.38201760e-01,  8.06388448e-01,  8.13272449e-01, -3.90149088e-02])"
      ]
     },
     "execution_count": 3,
     "metadata": {},
     "output_type": "execute_result"
    }
   ],
   "source": [
    "alpha=0.8\n",
    "Z0=eps[0]/np.sqrt(1-alpha**2)\n",
    "\n",
    "realiz_Z = np.array([Z0])\n",
    "\n",
    "for c in eps[1:T+1]:\n",
    "    real = alpha * realiz_Z[-1]  + c\n",
    "    realiz_Z=np.append(realiz_Z, real)\n",
    "realiz_Z"
   ]
  },
  {
   "cell_type": "markdown",
   "id": "7e3728ea-557c-41b0-b021-415c30ab0add",
   "metadata": {},
   "source": [
    "\n",
    "It would be nice if we could more easily build matrices with simple structure like that of $\\boldsymbol B$ without having the specify each element individually.\n",
    "\n",
    "$$\n",
    "\\underset{\\boldsymbol B}{\\underbrace{\\left[\n",
    "\\begin{array}{cccccccc}\n",
    "\\sqrt{1-\\alpha^2} & 0 & 0 & 0 & \\cdots & 0 & 0 & 0\\\\\n",
    "-\\alpha & 1 & 0 & 0 & \\cdots & 0 & 0 & 0\\\\\n",
    "0 & -\\alpha  & 1 & 0 & \\cdots & 0 & 0 & 0\\\\\n",
    "\\vdots & \\vdots & \\vdots & \\vdots & \\cdots & \\vdots & \\vdots & \\vdots\\\\\n",
    "0 & 0  & 0 & 0 & \\cdots & 0 & -\\alpha & 1\n",
    "\\end{array}\\right]}}\n",
    "\\underset{\\boldsymbol z}{\\underbrace{\n",
    "\\left[\n",
    "\\begin{array}{c}\n",
    "z_{0}\\\\\n",
    "z_{1}\\\\\n",
    "z_{2}\\\\\n",
    "\\vdots\\\\\n",
    "z_{T}\n",
    "\\end{array}\n",
    "\\right]\n",
    "}}\n",
    "=\n",
    "\\underset{\\mathbf{\\varepsilon}}{\\underbrace{\\left[\n",
    "\\begin{array}{c}\n",
    "\\varepsilon_{0}\\\\\n",
    "\\varepsilon_{1}\\\\\n",
    "\\varepsilon_{2}\\\\\n",
    "\\vdots\\\\\n",
    "\\varepsilon_{T}\n",
    "\\end{array}\n",
    "\\right]\n",
    "}}\n",
    "$$\n",
    "\n",
    "Fortunately, we can. Ignoring the the (0,0) element for a moment, the rest of $\\boldsymbol B$ can be created using `np.eye()`, `np.diag()` and `np.tile()` functions. After that, the (0,0) element can be added manually. Check these functions' [documentation](https://numpy.org/doc/stable/index.html) and create the $T \\times T$ matrix $\\boldsymbol B$."
   ]
  },
  {
   "cell_type": "code",
   "execution_count": 6,
   "id": "4670dd3b-8ce0-4728-b1c7-6c872fcf33f4",
   "metadata": {},
   "outputs": [
    {
     "data": {
      "text/plain": [
       "array([[ 0.6,  0. ,  0. , ...,  0. ,  0. ,  0. ],\n",
       "       [-0.8,  1. ,  0. , ...,  0. ,  0. ,  0. ],\n",
       "       [ 0. , -0.8,  1. , ...,  0. ,  0. ,  0. ],\n",
       "       ...,\n",
       "       [ 0. ,  0. ,  0. , ...,  1. ,  0. ,  0. ],\n",
       "       [ 0. ,  0. ,  0. , ..., -0.8,  1. ,  0. ],\n",
       "       [ 0. ,  0. ,  0. , ...,  0. , -0.8,  1. ]])"
      ]
     },
     "execution_count": 6,
     "metadata": {},
     "output_type": "execute_result"
    }
   ],
   "source": [
    "B = np.eye(T) + np.diag(np.tile(-alpha, T-1), k=-1)\n",
    "B[0,0] = np.sqrt(1-alpha**2)\n",
    "B"
   ]
  },
  {
   "cell_type": "markdown",
   "id": "a67a33c6",
   "metadata": {},
   "source": [
    "```{note}\n",
    "There are other ways to quickly build such matrices. If you are interested, check the [documentation](https://docs.scipy.org/doc/scipy/reference/generated/scipy.linalg.toeplitz.html) of the `toeplitz()` function from the `scipy.linalg` package\n",
    "```"
   ]
  },
  {
   "cell_type": "markdown",
   "id": "1484dcd3-a324-41ba-94bd-75019dfb6fc0",
   "metadata": {},
   "source": [
    "Verify that the equality $\\mathbf{z} = \\boldsymbol B^{-1} \\boldsymbol\\varepsilon$ holds"
   ]
  },
  {
   "cell_type": "markdown",
   "id": "fe80dd00-25cf-4e07-940b-b35a13f11401",
   "metadata": {},
   "source": [
    "</div> <div class=\"alert alert-block alert-danger\">\n",
    "\n",
    "Here is how to use the `toeplitz()` function (could be useful if there were more than 2 non-zero diagonals in B)\n",
    "\n",
    "```\n",
    "from scipy.linalg import toeplitz\n",
    "c = np.zeros(T)\n",
    "c[0] = 1\n",
    "c[1] = -alpha\n",
    "r = np.zeros(T)\n",
    "BB = toeplitz(c, r)\n",
    "BB[0, 0] = np.sqrt(1 - alpha**2)\n",
    "\n",
    "np.testing.assert_array_almost_equal(B, BB)\n",
    "```"
   ]
  },
  {
   "cell_type": "code",
   "execution_count": 8,
   "id": "1e6fa49e-572f-4542-89cf-7042d5f773a8",
   "metadata": {},
   "outputs": [],
   "source": [
    "np.testing.assert_array_almost_equal(realiz_Z, np.linalg.inv(B) @ eps)"
   ]
  },
  {
   "cell_type": "markdown",
   "id": "fb15cdbf-2e72-4a8a-bc65-06d6930f8240",
   "metadata": {},
   "source": [
    "Using $\\boldsymbol B$, compute the first T theoretical autocovariances of $z_t$"
   ]
  },
  {
   "cell_type": "code",
   "execution_count": 9,
   "id": "fdb72233-e8e4-4b4a-a5a1-05ca6e0645da",
   "metadata": {},
   "outputs": [],
   "source": [
    "ar1_acov1 = np.linalg.inv(B) @ np.linalg.inv(B).transpose()[:,0]\n",
    "\n",
    "assert len(ar1_acov1) == T\n",
    "\n"
   ]
  },
  {
   "cell_type": "markdown",
   "id": "3770b95b-7aa0-462c-9f77-140ccc7f2a8c",
   "metadata": {},
   "source": [
    "Using `statsmodels`, define an AR(1) object with the same parameters as given above, and compute the T theoretical autocovariances"
   ]
  },
  {
   "cell_type": "code",
   "execution_count": 10,
   "id": "db781ce7-fb63-4970-90ba-35ace86a41d6",
   "metadata": {},
   "outputs": [],
   "source": [
    "from statsmodels.tsa.arima_process import ArmaProcess\n",
    "import statsmodels.api as sm\n",
    "import statsmodels.tsa.api as smt\n",
    "\n",
    "ar = np.r_[1, -alpha] \n",
    "ma = np.r_[1]\n",
    "ar1_process = ArmaProcess(ar, ma)\n",
    "ar1_acov2 = ar1_process.acovf(T)\n",
    "\n"
   ]
  },
  {
   "cell_type": "markdown",
   "id": "89703f4e-21f8-4de9-af90-90739b6fe4dd",
   "metadata": {},
   "source": [
    "Confirm that `ar1_acov1` and `ar1_acov2` are the same (or numerically very close)"
   ]
  },
  {
   "cell_type": "code",
   "execution_count": 12,
   "id": "6051c5a8-1725-4c99-83db-4e8375baa978",
   "metadata": {},
   "outputs": [],
   "source": [
    "np.testing.assert_almost_equal(ar1_acov1, ar1_acov2)"
   ]
  }
 ],
 "metadata": {
  "kernelspec": {
   "display_name": "Python 3 (ipykernel)",
   "language": "python",
   "name": "python3"
  },
  "language_info": {
   "codemirror_mode": {
    "name": "ipython",
    "version": 3
   },
   "file_extension": ".py",
   "mimetype": "text/x-python",
   "name": "python",
   "nbconvert_exporter": "python",
   "pygments_lexer": "ipython3",
   "version": "3.10.2"
  }
 },
 "nbformat": 4,
 "nbformat_minor": 5
}
