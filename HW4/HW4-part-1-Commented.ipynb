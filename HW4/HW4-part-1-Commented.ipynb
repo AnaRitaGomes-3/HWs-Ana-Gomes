{
 "cells": [
  {
   "cell_type": "markdown",
   "id": "84ffeb57-a70d-4098-97dd-6db16d6b0878",
   "metadata": {},
   "source": [
    "## Part 1\n",
    "\n",
    "### In this part you will simulate a sample of 4 observations from a stationary AR(1) process with $\\alpha=0.8$, $\\sigma^2 = 1$"
   ]
  },
  {
   "cell_type": "code",
   "execution_count": 1,
   "id": "bbf94b22-2938-49cf-8dd7-8c01642c81d3",
   "metadata": {},
   "outputs": [],
   "source": [
    "# import numpy\n",
    "import numpy as np"
   ]
  },
  {
   "cell_type": "markdown",
   "id": "5f83baae-de32-4dab-97dc-f09eb9c17c9f",
   "metadata": {},
   "source": [
    "Generate a $4D$ vector of innovations using `gen = np.random.default_rng(100)`"
   ]
  },
  {
   "cell_type": "code",
   "execution_count": 2,
   "id": "1059b89b-4c2e-4ae3-b3e1-22ddf78aed00",
   "metadata": {},
   "outputs": [
    {
     "data": {
      "text/plain": [
       "array([-1.15754965,  0.2897558 ,  0.78085407,  0.54397364])"
      ]
     },
     "execution_count": 2,
     "metadata": {},
     "output_type": "execute_result"
    }
   ],
   "source": [
    "gen = np.random.default_rng(100)\n",
    "eps = gen.standard_normal(4)\n",
    "eps"
   ]
  },
  {
   "cell_type": "markdown",
   "id": "89118364-7d06-465e-b3ef-f4f3a3b9ab8b",
   "metadata": {},
   "source": [
    "Using $\\varepsilon_0$, generate $z_0$ from the stationary distribution of $\\mathbf{z}$\n",
    "\n",
    "__Hint:__ see [here](https://niskrev.github.io/PhDEcon108/01-Lectures/04-ARMA/01-ARMA-part-1.html)"
   ]
  },
  {
   "cell_type": "markdown",
   "id": "9f7b88cb-3b35-4649-94fd-43b6cfe1b5a5",
   "metadata": {},
   "source": [
    "</div> <div class=\"alert alert-block alert-danger\">\n",
    "\n",
    "with loops, it is often better to create an empty array (or array of zeros) with\n",
    "    \n",
    "`z = np.empty_like(eps) # or np.zeros_like(eps)`\n",
    "    \n",
    "or\n",
    "    \n",
    "`z = np.empty(eps.shape) # or np.zeros(eps.shape)`\n",
    "\n",
    "assign the first value with\n",
    "    \n",
    "`z[0] = eps[0]/np.sqrt(1-alpha**2)`\n",
    "    \n",
    "and then fill-in the array in the loop with \n",
    "    \n",
    "```\n",
    "for t in range(1, 4):\n",
    "    z[t] = alpha*z[t-1] + eps[t]\n",
    "```"
   ]
  },
  {
   "cell_type": "code",
   "execution_count": 3,
   "id": "1bf6970f-d65e-4b36-a793-7a9477a349e2",
   "metadata": {},
   "outputs": [
    {
     "data": {
      "text/plain": [
       "-1.9292494118668633"
      ]
     },
     "execution_count": 3,
     "metadata": {},
     "output_type": "execute_result"
    }
   ],
   "source": [
    "alpha=0.8\n",
    "Z0=eps[0]/np.sqrt(1-alpha**2)\n",
    "Z0"
   ]
  },
  {
   "cell_type": "markdown",
   "id": "c1912545-e2ba-4a49-9231-5bd6b30dc3bc",
   "metadata": {},
   "source": [
    "Using a `for` loop, generate the remaining 3 realizations of $\\mathbf{z}$"
   ]
  },
  {
   "cell_type": "code",
   "execution_count": 4,
   "id": "2fdafba0-9520-4dec-8bdf-0a7d741d8c84",
   "metadata": {},
   "outputs": [
    {
     "data": {
      "text/plain": [
       "array([-1.92924941, -1.25364373, -0.22206091,  0.36632491])"
      ]
     },
     "execution_count": 4,
     "metadata": {},
     "output_type": "execute_result"
    }
   ],
   "source": [
    "realiz_Z = np.array([Z0])\n",
    "\n",
    "for c in eps[1:4]:\n",
    "    real = alpha * realiz_Z[-1]  + c\n",
    "    realiz_Z=np.append(realiz_Z, real)\n",
    "\n",
    "realiz_Z"
   ]
  },
  {
   "cell_type": "markdown",
   "id": "c2f4152b-d593-49c6-a3eb-71acf5e4f68f",
   "metadata": {},
   "source": [
    "As discussed in a lecture (see again [here](https://niskrev.github.io/PhDEcon108/01-Lectures/04-ARMA/01-ARMA-part-1.html)) there is a linear relationship between $\\mathbf{z}$ and $\\boldsymbol \\varepsilon$, In particular, there is a $(T+1)\\times(T+1)$ matrix $\\boldsymbol A$ such that\n",
    "\n",
    "$$\n",
    "\\underset{\\mathbf{z}}{\\underbrace{\\left[\\begin{array}{c}\n",
    "z_{0}\\\\\n",
    "z_{1}\\\\\n",
    "z_{2}\\\\\n",
    "z_{3}\\\\\n",
    "z_{4}\\\\\n",
    "\\vdots\\\\\n",
    "z_{T}\n",
    "\\end{array}\\right]}}\n",
    "=\n",
    "\\underset{\\boldsymbol A}{\\underbrace{\\left[\\begin{array}{cccccccc}\n",
    "\\frac{1}{\\sqrt{1-\\alpha^2}} & 0 & 0 & 0 & \\cdots & 0 & 0 & 0\\\\\n",
    "\\frac{\\alpha}{\\sqrt{1-\\alpha^2}} & 1 & 0 & 0 & \\cdots & 0 & 0 & 0\\\\\n",
    "\\frac{\\alpha^2}{\\sqrt{1-\\alpha^2}} & \\alpha & 1 & 0 & \\cdots & 0 & 0 & 0\\\\\n",
    "\\vdots & \\vdots & \\vdots & \\vdots & \\cdots & \\vdots & \\vdots & \\vdots\\\\\n",
    "\\frac{\\alpha^T}{\\sqrt{1-\\alpha^2}} & \\alpha^{T-1}  & \\alpha^{T-2} & \\alpha^{T-3} & \\cdots & \\alpha^2 & \\alpha & 1\n",
    "\\end{array}\\right]}}\n",
    "\\underset{\\boldsymbol\\varepsilon}{\\underbrace{\n",
    "\\left[\\begin{array}{c}\n",
    "\\varepsilon_{0}\\\\\n",
    "\\varepsilon_{1}\\\\\n",
    "\\varepsilon_{2}\\\\\n",
    "\\varepsilon_{3}\\\\\n",
    "\\vdots\\\\\n",
    "\\varepsilon_{T-1}\\\\\n",
    "\\varepsilon_{T}\n",
    "\\end{array}\\right]\n",
    "}}\n",
    "$$\n",
    "\n",
    "Build the $4x4$ matrix $\\boldsymbol A$, and confirm that the equality $\\mathbf{z} = \\boldsymbol A \\boldsymbol\\varepsilon$ holds"
   ]
  },
  {
   "cell_type": "markdown",
   "id": "4057a589-536f-44aa-a61e-6714261ff814",
   "metadata": {},
   "source": [
    "</div> <div class=\"alert alert-block alert-danger\">\n",
    "\n",
    "Here is another way (not necessarily better) to create A\n",
    "    \n",
    "```\n",
    "A = np.zeros((4, 4))\n",
    "\n",
    "A[0, 0] = 1/np.sqrt(1-alpha**2)\n",
    "A[1, 0] = (alpha)/np.sqrt(1-alpha**2)\n",
    "A[2, 0] = (alpha**2)/np.sqrt(1-alpha**2)\n",
    "A[3, 0] = (alpha**3)/np.sqrt(1-alpha**2)\n",
    "\n",
    "A[1, 1] = 1\n",
    "A[2, 1] = alpha\n",
    "A[3, 1] = alpha**2\n",
    "\n",
    "A[2, 2] = 1\n",
    "A[3, 2] = alpha\n",
    "\n",
    "A[3, 3] = 1\n",
    "```"
   ]
  },
  {
   "cell_type": "code",
   "execution_count": 5,
   "id": "c63f3c93-0ba5-464e-8735-0861bd628fad",
   "metadata": {},
   "outputs": [],
   "source": [
    "denominador = 1/np.sqrt(1-alpha**2)\n",
    "A =np.array([[denominador, 0, 0, 0],\n",
    "             [alpha*denominador, 1, 0, 0],\n",
    "             [(alpha**2)*denominador, alpha, 1, 0],\n",
    "             [(alpha**3)*denominador, alpha**2, alpha, 1]]\n",
    "           )\n",
    "A\n",
    "np.testing.assert_array_almost_equal(realiz_Z, A @ eps)\n"
   ]
  },
  {
   "cell_type": "markdown",
   "id": "7e3728ea-557c-41b0-b021-415c30ab0add",
   "metadata": {},
   "source": [
    "An alternative (and perhaps simpler) way to represent the linear relationship between $\\mathbf{z}$ and $\\boldsymbol\\varepsilon$, is with a matrix $\\boldsymbol B$, such that\n",
    "\n",
    "$$\n",
    "\\underset{\\boldsymbol B}{\\underbrace{\\left[\n",
    "\\begin{array}{cccccccc}\n",
    "\\sqrt{1-\\alpha^2} & 0 & 0 & 0 & \\cdots & 0 & 0 & 0\\\\\n",
    "-\\alpha & 1 & 0 & 0 & \\cdots & 0 & 0 & 0\\\\\n",
    "0 & -\\alpha  & 1 & 0 & \\cdots & 0 & 0 & 0\\\\\n",
    "\\vdots & \\vdots & \\vdots & \\vdots & \\cdots & \\vdots & \\vdots & \\vdots\\\\\n",
    "0 & 0  & 0 & 0 & \\cdots & 0 & -\\alpha & 1\n",
    "\\end{array}\\right]}}\n",
    "\\underset{\\boldsymbol z}{\\underbrace{\n",
    "\\left[\n",
    "\\begin{array}{c}\n",
    "z_{0}\\\\\n",
    "z_{1}\\\\\n",
    "z_{2}\\\\\n",
    "\\vdots\\\\\n",
    "z_{T}\n",
    "\\end{array}\n",
    "\\right]\n",
    "}}\n",
    "=\n",
    "\\underset{\\mathbf{\\varepsilon}}{\\underbrace{\\left[\n",
    "\\begin{array}{c}\n",
    "\\varepsilon_{0}\\\\\n",
    "\\varepsilon_{1}\\\\\n",
    "\\varepsilon_{2}\\\\\n",
    "\\vdots\\\\\n",
    "\\varepsilon_{T}\n",
    "\\end{array}\n",
    "\\right]\n",
    "}}\n",
    "$$\n",
    "\n",
    "Using pen and paper, confirm for yourself that this relationship indeed holds. Then, build the matrix $\\boldsymbol B$ and check programmatically if it is invertible (the matrix rank is equal to the number of columns/rows, i.e. it is full rank)\n",
    "\n",
    "__Hint:__ check the documentation of [Numpy](https://numpy.org/doc/stable/index.html) for a function that returns the rank of a matrix. Use an assertion to confirm that $\\boldsymbol B$ is full rank."
   ]
  },
  {
   "cell_type": "markdown",
   "id": "4ffbc553-0de4-41fc-8453-62490c41a904",
   "metadata": {},
   "source": [
    "</div> <div class=\"alert alert-block alert-danger\">\n",
    "\n",
    "Here is another way of creating B (not necessarily better)\n",
    "    \n",
    "```\n",
    "B = np.eye(4)\n",
    "\n",
    "B[0,0] = np.sqrt(1 - alpha**2)\n",
    "B[1,0] = -alpha\n",
    "B[2, 1] = -alpha\n",
    "B[3, 2] = -alpha\n",
    "```"
   ]
  },
  {
   "cell_type": "code",
   "execution_count": 6,
   "id": "9a472619-bd53-4623-8391-cb6a9703146d",
   "metadata": {},
   "outputs": [],
   "source": [
    "B =np.array([[np.sqrt(1-alpha**2), 0, 0, 0], [-alpha, 1, 0, 0], [0, -alpha, 1, 0], [0, 0, -alpha, 1]])\n",
    "\n",
    "rankB = np.linalg.matrix_rank(B)\n",
    "\n",
    "# assert full rank\n",
    "np.testing.assert_array_almost_equal(rankB, len(B))\n"
   ]
  },
  {
   "cell_type": "markdown",
   "id": "8249aa43-7508-462d-913d-606dc1ff8336",
   "metadata": {},
   "source": [
    "Verify that the equality $\\mathbf{z} = \\boldsymbol B^{-1} \\boldsymbol\\varepsilon$ holds"
   ]
  },
  {
   "cell_type": "code",
   "execution_count": 8,
   "id": "3ce39ce5-8a05-4baf-82bf-80a71b46c3ab",
   "metadata": {},
   "outputs": [],
   "source": [
    "np.testing.assert_array_almost_equal(realiz_Z, np.linalg.inv(B) @ eps)"
   ]
  },
  {
   "cell_type": "markdown",
   "id": "d51113bf-2b4a-468a-9bf1-ddf7648026e4",
   "metadata": {},
   "source": []
  }
 ],
 "metadata": {
  "kernelspec": {
   "display_name": "Python 3 (ipykernel)",
   "language": "python",
   "name": "python3"
  },
  "language_info": {
   "codemirror_mode": {
    "name": "ipython",
    "version": 3
   },
   "file_extension": ".py",
   "mimetype": "text/x-python",
   "name": "python",
   "nbconvert_exporter": "python",
   "pygments_lexer": "ipython3",
   "version": "3.10.2"
  }
 },
 "nbformat": 4,
 "nbformat_minor": 5
}
